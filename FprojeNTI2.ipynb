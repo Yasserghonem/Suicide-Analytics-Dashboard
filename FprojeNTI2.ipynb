{
  "cells": [
    {
      "cell_type": "markdown",
      "source": [
        "##Read & Clean"
      ],
      "metadata": {
        "id": "1Lyiz5OOPSX4"
      },
      "id": "1Lyiz5OOPSX4"
    },
    {
      "cell_type": "code",
      "execution_count": null,
      "id": "e2c29e50",
      "metadata": {
        "id": "e2c29e50"
      },
      "outputs": [],
      "source": [
        "import pandas as pd\n",
        "import numpy as np\n",
        "import matplotlib.pyplot as plt\n",
        "import seaborn as sns"
      ]
    },
    {
      "cell_type": "code",
      "execution_count": null,
      "id": "19e534a1",
      "metadata": {
        "id": "19e534a1"
      },
      "outputs": [],
      "source": [
        "data=pd.read_csv(r'C:\\Users\\And\\Downloads\\Early Suicide Prediction.csv')"
      ]
    },
    {
      "cell_type": "code",
      "execution_count": null,
      "id": "a33d774e",
      "metadata": {
        "id": "a33d774e",
        "outputId": "af90aad6-90ce-4002-da41-8b99164f72f4"
      },
      "outputs": [
        {
          "name": "stdout",
          "output_type": "stream",
          "text": [
            "   Age  Gender Stress Level Academic Performance Health Condition  \\\n",
            "0   22  Female          Low                Good            Normal   \n",
            "1   23    Male         High                Good              Fair   \n",
            "2   19  Female     Moderate                 Poor           Normal   \n",
            "3   18  Female         High              Average         Abnormal   \n",
            "4   19  Female          Low                Good              Fair   \n",
            "\n",
            "  Relationship Condition     Family Problem Depression Level Anxiety Level  \\\n",
            "0      In a relationship                NaN           Always        Always   \n",
            "1                 Single                NaN           Always         Often   \n",
            "2                Breakup  Parental conflict            Often         Often   \n",
            "3                 Single          Financial           Always         Often   \n",
            "4                 Single                NaN        Sometimes     Sometimes   \n",
            "\n",
            "  Mental Support Self Harm Story Suicide Attempt  \n",
            "0         Family              No   Never Thought  \n",
            "1     loneliness             Yes       Attempted  \n",
            "2        Friends             Yes         Thought  \n",
            "3     loneliness             Yes         Thought  \n",
            "4         Family              No   Never Thought  \n",
            "Index(['Age', 'Gender', 'Stress Level', 'Academic Performance',\n",
            "       'Health Condition', 'Relationship Condition', 'Family Problem',\n",
            "       'Depression Level', 'Anxiety Level', 'Mental Support',\n",
            "       'Self Harm Story', 'Suicide Attempt'],\n",
            "      dtype='object')\n",
            "(1099, 12)\n"
          ]
        },
        {
          "data": {
            "text/plain": [
              "'\"\\n1/ البيانات تابعه لمنظمه الصحه العالميه \\n2/ تتحدث عن حالات الانتحار حول العالم \\n3/ البيانات مجمعه من سنة 1985 الي 2016\\n4/ التصنيفات كتالي \\n\\nAge العمر   Gender النوع     Stress Level\\t مستوي التوتر     Academic Performance\\tالاداء الدراسي \\n\\nHealth Condition\\t الحاله الصحيه    Relationship Condition\\t حالة العلاقات     Family Problem\\t  هل يوجد مشاكل اسريه\\n\\nDepression Level\\t مستوي الاكتئاب   Anxiety Level\\t   مستوي القلق   Mental Support\\t  وجود داعم نفسي \\n\\nSelf Harm Story\\t  وجود اذاء نفسي سابق      Suicide Attempt\\t   محاوله الانتحار \\n\\n5/ العمود  المستنتج لبناء النموذج عليه هو (Suicide Attempt)\\n'"
            ]
          },
          "execution_count": 305,
          "metadata": {},
          "output_type": "execute_result"
        }
      ],
      "source": [
        "#الفهم العام للبيانات\n",
        "print(data.head())\n",
        "print(data.columns)\n",
        "print(data.shape)\n",
        "\n",
        "\"\"\"\"\n",
        "1/ البيانات تابعه لمنظمه الصحه العالميه\n",
        "2/ تتحدث عن حالات الانتحار حول العالم\n",
        "3/ البيانات مجمعه من سنة 1985 الي 2016\n",
        "4/ التصنيفات كتالي\n",
        "\n",
        "Age العمر   Gender النوع     Stress Level\t مستوي التوتر     Academic Performance\tالاداء الدراسي\n",
        "\n",
        "Health Condition\t الحاله الصحيه    Relationship Condition\t حالة العلاقات     Family Problem\t  هل يوجد مشاكل اسريه\n",
        "\n",
        "Depression Level\t مستوي الاكتئاب   Anxiety Level\t   مستوي القلق   Mental Support\t  وجود داعم نفسي\n",
        "\n",
        "Self Harm Story\t  وجود اذاء نفسي سابق      Suicide Attempt\t   محاوله الانتحار\n",
        "\n",
        "5/ العمود  المستنتج لبناء النموذج عليه هو (Suicide Attempt)\n",
        "\"\"\""
      ]
    },
    {
      "cell_type": "code",
      "execution_count": null,
      "id": "5db7f1d2",
      "metadata": {
        "id": "5db7f1d2",
        "outputId": "90119c8c-1a93-43b1-ec5a-0ca0d26c1240"
      },
      "outputs": [
        {
          "name": "stdout",
          "output_type": "stream",
          "text": [
            "<class 'pandas.core.frame.DataFrame'>\n",
            "RangeIndex: 1099 entries, 0 to 1098\n",
            "Data columns (total 12 columns):\n",
            " #   Column                  Non-Null Count  Dtype \n",
            "---  ------                  --------------  ----- \n",
            " 0   Age                     1099 non-null   int64 \n",
            " 1   Gender                  1099 non-null   object\n",
            " 2   Stress Level            1099 non-null   object\n",
            " 3   Academic Performance    1099 non-null   object\n",
            " 4   Health Condition        1099 non-null   object\n",
            " 5   Relationship Condition  1099 non-null   object\n",
            " 6   Family Problem          693 non-null    object\n",
            " 7   Depression Level        1099 non-null   object\n",
            " 8   Anxiety Level           1099 non-null   object\n",
            " 9   Mental Support          1099 non-null   object\n",
            " 10  Self Harm Story         1099 non-null   object\n",
            " 11  Suicide Attempt         1099 non-null   object\n",
            "dtypes: int64(1), object(11)\n",
            "memory usage: 103.2+ KB\n",
            "None\n",
            "number of unique\n",
            "Age                       13\n",
            "Gender                     2\n",
            "Stress Level               3\n",
            "Academic Performance       4\n",
            "Health Condition           3\n",
            "Relationship Condition     3\n",
            "Family Problem             2\n",
            "Depression Level           4\n",
            "Anxiety Level              4\n",
            "Mental Support             3\n",
            "Self Harm Story            2\n",
            "Suicide Attempt            3\n",
            "dtype: int64\n",
            "Age                         0\n",
            "Gender                      0\n",
            "Stress Level                0\n",
            "Academic Performance        0\n",
            "Health Condition            0\n",
            "Relationship Condition      0\n",
            "Family Problem            406\n",
            "Depression Level            0\n",
            "Anxiety Level               0\n",
            "Mental Support              0\n",
            "Self Harm Story             0\n",
            "Suicide Attempt             0\n",
            "dtype: int64\n",
            "data_duplic\n",
            "      Age  Gender Stress Level Academic Performance Health Condition  \\\n",
            "34     20  Female     Moderate              Average         Abnormal   \n",
            "222    24    Male     Moderate                 Poor           Normal   \n",
            "226    20  Female          Low              Average             Fair   \n",
            "228    21  Female          Low            Excellent         Abnormal   \n",
            "334    24    Male     Moderate                 Poor           Normal   \n",
            "422    23    Male          Low                 Poor           Normal   \n",
            "463    22    Male     Moderate                 Poor           Normal   \n",
            "464    22    Male          Low            Excellent           Normal   \n",
            "470    23    Male          Low            Excellent           Normal   \n",
            "474    23    Male     Moderate                Good            Normal   \n",
            "521    23    Male          Low            Excellent           Normal   \n",
            "529    22    Male          Low            Excellent           Normal   \n",
            "556    23    Male          Low                 Poor           Normal   \n",
            "597    22    Male     Moderate              Average           Normal   \n",
            "638    24    Male     Moderate                 Poor           Normal   \n",
            "647    22    Male          Low            Excellent             Fair   \n",
            "662    23    Male          Low                 Poor           Normal   \n",
            "667    23    Male     Moderate                 Poor           Normal   \n",
            "675    22    Male     Moderate                 Poor           Normal   \n",
            "718    21    Male          Low                Good            Normal   \n",
            "720    23    Male     Moderate                Good            Normal   \n",
            "722    21    Male          Low                Good            Normal   \n",
            "725    21    Male          Low                Good            Normal   \n",
            "726    21    Male          Low              Average           Normal   \n",
            "742    21    Male          Low                Good          Abnormal   \n",
            "751    23    Male          Low            Excellent           Normal   \n",
            "774    22    Male          Low            Excellent           Normal   \n",
            "779    22    Male     Moderate                Good            Normal   \n",
            "788    22    Male          Low            Excellent           Normal   \n",
            "797    21    Male         High                 Poor           Normal   \n",
            "878    20  Female          Low                Good            Normal   \n",
            "912    25  Female         High              Average           Normal   \n",
            "976    22  Female          Low                Good              Fair   \n",
            "1002   22  Female          Low                Good            Normal   \n",
            "1003   20  Female         High                 Poor           Normal   \n",
            "1029   18  Female          Low            Excellent             Fair   \n",
            "1032   20  Female          Low              Average             Fair   \n",
            "1033   21  Female          Low            Excellent             Fair   \n",
            "1037   21  Female     Moderate              Average           Normal   \n",
            "1038   22  Female          Low            Excellent             Fair   \n",
            "1049   22  Female          Low            Excellent             Fair   \n",
            "1058   18  Female          Low            Excellent             Fair   \n",
            "1064   22  Female          Low            Excellent           Normal   \n",
            "1079   20  Female          Low            Excellent             Fair   \n",
            "1085   23  Female          Low            Excellent             Fair   \n",
            "\n",
            "     Relationship Condition     Family Problem Depression Level Anxiety Level  \\\n",
            "34                   Single          Financial           Always        Always   \n",
            "222                  Single  Parental conflict            Often         Often   \n",
            "226                  Single                NaN        Sometimes     Sometimes   \n",
            "228                  Single                NaN        Sometimes     Sometimes   \n",
            "334       In a relationship                NaN        Sometimes         Often   \n",
            "422                  Single          Financial        Sometimes     Sometimes   \n",
            "463       In a relationship                NaN        Sometimes     Sometimes   \n",
            "464       In a relationship                NaN        Sometimes     Sometimes   \n",
            "470       In a relationship                NaN        Sometimes     Sometimes   \n",
            "474       In a relationship  Parental conflict        Sometimes     Sometimes   \n",
            "521                  Single          Financial        Sometimes     Sometimes   \n",
            "529       In a relationship  Parental conflict        Sometimes     Sometimes   \n",
            "556                  Single                NaN        Sometimes     Sometimes   \n",
            "597       In a relationship          Financial        Sometimes         Often   \n",
            "638       In a relationship                NaN        Sometimes         Often   \n",
            "647                 Breakup                NaN        Sometimes     Sometimes   \n",
            "662                  Single                NaN        Sometimes     Sometimes   \n",
            "667                  Single          Financial        Sometimes     Sometimes   \n",
            "675                  Single          Financial        Sometimes     Sometimes   \n",
            "718                  Single                NaN        Sometimes     Sometimes   \n",
            "720                  Single                NaN        Sometimes     Sometimes   \n",
            "722                 Breakup                NaN        Sometimes     Sometimes   \n",
            "725       In a relationship  Parental conflict           Always         Often   \n",
            "726       In a relationship                NaN           Always         Often   \n",
            "742                  Single                NaN        Sometimes     Sometimes   \n",
            "751       In a relationship                NaN        Sometimes     Sometimes   \n",
            "774                  Single                NaN        Sometimes         Often   \n",
            "779       In a relationship                NaN        Sometimes     Sometimes   \n",
            "788       In a relationship  Parental conflict            Often     Sometimes   \n",
            "797                 Breakup          Financial           Always        Always   \n",
            "878       In a relationship  Parental conflict            Often         Often   \n",
            "912                  Single          Financial           Always        Always   \n",
            "976       In a relationship          Financial            Often     Sometimes   \n",
            "1002                Breakup          Financial            Often     Sometimes   \n",
            "1003                 Single          Financial           Always         Often   \n",
            "1029                 Single                NaN        Sometimes     Sometimes   \n",
            "1032                 Single                NaN        Sometimes     Sometimes   \n",
            "1033      In a relationship                NaN        Sometimes     Sometimes   \n",
            "1037      In a relationship          Financial            Often     Sometimes   \n",
            "1038                 Single                NaN        Sometimes     Sometimes   \n",
            "1049                 Single                NaN        Sometimes     Sometimes   \n",
            "1058                 Single                NaN        Sometimes     Sometimes   \n",
            "1064                 Single                NaN        Sometimes     Sometimes   \n",
            "1079                 Single                NaN        Sometimes     Sometimes   \n",
            "1085                 Single                NaN        Sometimes     Sometimes   \n",
            "\n",
            "     Mental Support Self Harm Story Suicide Attempt  \n",
            "34       loneliness              No         Thought  \n",
            "222         Friends              No   Never Thought  \n",
            "226          Family              No   Never Thought  \n",
            "228          Family              No   Never Thought  \n",
            "334         Friends              No   Never Thought  \n",
            "422         Friends              No   Never Thought  \n",
            "463         Friends              No   Never Thought  \n",
            "464          Family              No   Never Thought  \n",
            "470          Family              No   Never Thought  \n",
            "474         Friends              No   Never Thought  \n",
            "521         Friends              No   Never Thought  \n",
            "529         Friends              No   Never Thought  \n",
            "556         Friends              No   Never Thought  \n",
            "597         Friends              No         Thought  \n",
            "638         Friends              No   Never Thought  \n",
            "647         Friends              No   Never Thought  \n",
            "662          Family              No   Never Thought  \n",
            "667         Friends              No   Never Thought  \n",
            "675         Friends              No   Never Thought  \n",
            "718         Friends              No   Never Thought  \n",
            "720         Friends              No   Never Thought  \n",
            "722          Family              No   Never Thought  \n",
            "725         Friends              No   Never Thought  \n",
            "726         Friends              No   Never Thought  \n",
            "742          Family              No   Never Thought  \n",
            "751         Friends              No   Never Thought  \n",
            "774         Friends              No   Never Thought  \n",
            "779          Family              No   Never Thought  \n",
            "788         Friends              No   Never Thought  \n",
            "797      loneliness             Yes       Attempted  \n",
            "878         Friends              No   Never Thought  \n",
            "912      loneliness             Yes       Attempted  \n",
            "976          Family              No   Never Thought  \n",
            "1002        Friends              No   Never Thought  \n",
            "1003     loneliness             Yes       Attempted  \n",
            "1029         Family              No   Never Thought  \n",
            "1032         Family              No   Never Thought  \n",
            "1033        Friends              No   Never Thought  \n",
            "1037        Friends              No         Thought  \n",
            "1038         Family              No   Never Thought  \n",
            "1049         Family              No   Never Thought  \n",
            "1058         Family              No   Never Thought  \n",
            "1064        Friends              No   Never Thought  \n",
            "1079        Friends              No   Never Thought  \n",
            "1085        Friends              No   Never Thought  \n",
            "numbr of dupliced\n",
            "Age    980\n",
            "dtype: int64\n"
          ]
        }
      ],
      "source": [
        "#اكتشاف البيانات\n",
        "#حجم البيانات (1099, 12)\n",
        "print (data.info()) #Family Problem          406      العمود دا فيه يقارب من %50 قيم فارغه\n",
        "print(\"number of unique\")\n",
        "print(data.nunique())#الاعمده التي تحتوي علي تصنفات اقصي عدد من التصنفات داخل عمود فريد هو 4\n",
        "print(data.isnull().sum())\n",
        "\n",
        "print(\"data_duplic\")\n",
        "data_duplic=data[data.duplicated()]\n",
        "print(data_duplic)\n",
        "print(\"numbr of dupliced\") # يوجد قيم متكراره ولكن ممكن تكون علشان هي اعراض لنفس الحاجه فا افضل عدم حذفهاااا\n",
        "print(data_duplic.sum(numeric_only=True))"
      ]
    },
    {
      "cell_type": "code",
      "execution_count": null,
      "id": "8575e5a2",
      "metadata": {
        "id": "8575e5a2",
        "outputId": "9affba64-8965-4dbe-b603-af75a1a17067"
      },
      "outputs": [
        {
          "name": "stdout",
          "output_type": "stream",
          "text": [
            "               Age\n",
            "count  1099.000000\n",
            "mean     22.657871\n",
            "std       6.231228\n",
            "min      18.000000\n",
            "25%      21.000000\n",
            "50%      22.000000\n",
            "75%      23.000000\n",
            "max     221.000000\n"
          ]
        },
        {
          "data": {
            "text/plain": [
              "<Axes: >"
            ]
          },
          "execution_count": 307,
          "metadata": {},
          "output_type": "execute_result"
        },
        {
          "data": {
            "image/png": "[encoded data removed]",
            "text/plain": [
              "<Figure size 640x480 with 1 Axes>"
            ]
          },
          "metadata": {},
          "output_type": "display_data"
        }
      ],
      "source": [
        "#الكتشاف القيم الشاذه\n",
        "print(data.describe())\n",
        "sns.boxenplot(data=data)\n",
        "#plt.yscale(\"log\")\n",
        "#عندنا شخص عمره متعدي 200  دا هيتم حذفه"
      ]
    },
    {
      "cell_type": "code",
      "execution_count": null,
      "id": "124fd635",
      "metadata": {
        "id": "124fd635",
        "outputId": "b09b512d-7251-4866-fb0a-4836ce9a7cc8"
      },
      "outputs": [
        {
          "name": "stdout",
          "output_type": "stream",
          "text": [
            "(1099, 12)\n",
            "Age                       0\n",
            "Gender                    0\n",
            "Stress Level              0\n",
            "Academic Performance      0\n",
            "Health Condition          0\n",
            "Relationship Condition    0\n",
            "Family Problem            0\n",
            "Depression Level          0\n",
            "Anxiety Level             0\n",
            "Mental Support            0\n",
            "Self Harm Story           0\n",
            "Suicide Attempt           0\n",
            "dtype: int64\n"
          ]
        }
      ],
      "source": [
        "#التعامل مع المشاكل\n",
        "#حذف العمود Family Problem  هو مهم  بس فيه تقريبا 47% فارغ ولو مالته بحاجه ثابته هياثر علي المدل\n",
        "df=data.copy()\n",
        "drop_or_ceb_df=df.copy()\n",
        "\n",
        "#drop_or_ceb_df.dropna(inplace=True,axis=1)\n",
        "print(drop_or_ceb_df.shape)\n",
        "\n",
        "#او نحافظ عليه\n",
        "drop_or_ceb_df['Family Problem'] = drop_or_ceb_df['Family Problem'].fillna('Unknown')\n",
        "print(drop_or_ceb_df.isnull().sum())\n",
        "#عندنا خيارين ام نفعل كود الدروب او كود الاكمال الي تلقيه مناسب للنموذج اشتغل عليه انا هكمل علي الاكمال\n",
        "\n"
      ]
    },
    {
      "cell_type": "code",
      "execution_count": null,
      "id": "4d11ee89",
      "metadata": {
        "id": "4d11ee89",
        "outputId": "3ca303dc-df9e-4e13-de83-612b7e9332eb"
      },
      "outputs": [
        {
          "name": "stdout",
          "output_type": "stream",
          "text": [
            "               Age\n",
            "count  1086.000000\n",
            "mean     22.421731\n",
            "std       1.648026\n",
            "min      18.000000\n",
            "25%      21.000000\n",
            "50%      22.000000\n",
            "75%      23.000000\n",
            "max      26.000000\n"
          ]
        },
        {
          "data": {
            "text/plain": [
              "Text(0.5, 1.0, 'After removing outlrar ')"
            ]
          },
          "execution_count": 309,
          "metadata": {},
          "output_type": "execute_result"
        },
        {
          "data": {
            "image/png": "[encoded data removed]",
            "text/plain": [
              "<Figure size 640x480 with 1 Axes>"
            ]
          },
          "metadata": {},
          "output_type": "display_data"
        }
      ],
      "source": [
        "#حذف القيم الشاذه\n",
        "\n",
        "Q1 = drop_or_ceb_df['Age'].quantile(0.25)\n",
        "Q3 = drop_or_ceb_df['Age'].quantile(0.75)\n",
        "IQR = Q3 - Q1\n",
        "\n",
        "lower_bound = Q1 - 1.5 * IQR\n",
        "upper_bound = Q3 + 1.5 * IQR\n",
        "\n",
        "\n",
        "drop_or_ceb_df = data[(drop_or_ceb_df['Age'] >= lower_bound) & (drop_or_ceb_df['Age'] <= upper_bound)]\n",
        "\n",
        "print(drop_or_ceb_df.describe())\n",
        "sns.boxenplot(data=drop_or_ceb_df)\n",
        "plt.title(\"After removing outlrar \")\n"
      ]
    },
    {
      "cell_type": "code",
      "execution_count": null,
      "id": "4e06cee1",
      "metadata": {
        "id": "4e06cee1",
        "outputId": "d2615117-fb37-465f-d1b4-83655eafa553"
      },
      "outputs": [
        {
          "name": "stdout",
          "output_type": "stream",
          "text": [
            "Age                       9\n",
            "Gender                    2\n",
            "Stress Level              3\n",
            "Academic Performance      4\n",
            "Health Condition          3\n",
            "Relationship Condition    3\n",
            "Family Problem            2\n",
            "Depression Level          4\n",
            "Anxiety Level             4\n",
            "Mental Support            3\n",
            "Self Harm Story           2\n",
            "Suicide Attempt           3\n",
            "dtype: int64\n"
          ]
        }
      ],
      "source": [
        "print(drop_or_ceb_df.nunique())\n"
      ]
    },
    {
      "cell_type": "code",
      "execution_count": null,
      "id": "d5d77d11",
      "metadata": {
        "id": "d5d77d11",
        "outputId": "24b5abf2-eb8e-427d-9f39-632107839eb8"
      },
      "outputs": [
        {
          "data": {
            "text/plain": [
              "<function matplotlib.pyplot.show(close=None, block=None)>"
            ]
          },
          "execution_count": 311,
          "metadata": {},
          "output_type": "execute_result"
        },
        {
          "data": {
            "image/png": "[encoded data removed]",
            "text/plain": [
              "<Figure size 640x480 with 1 Axes>"
            ]
          },
          "metadata": {},
          "output_type": "display_data"
        }
      ],
      "source": [
        "#مرحله العرض\n",
        "sns.countplot(x=drop_or_ceb_df[\"Suicide Attempt\"])\n",
        "plt.title(\"Suicide Attempt\")\n",
        "plt.show\n",
        "#يوجد عدم توازن"
      ]
    },
    {
      "cell_type": "code",
      "execution_count": null,
      "id": "c58ee33e",
      "metadata": {
        "id": "c58ee33e",
        "outputId": "aa15d4c1-dde5-48df-850d-d8b8b11bbc81"
      },
      "outputs": [
        {
          "data": {
            "text/plain": [
              "Text(0.5, 1.0, 'Suicide Attempt vs Age ')"
            ]
          },
          "execution_count": 312,
          "metadata": {},
          "output_type": "execute_result"
        },
        {
          "data": {
            "image/png": "[encoded data removed]",
            "text/plain": [
              "<Figure size 640x480 with 1 Axes>"
            ]
          },
          "metadata": {},
          "output_type": "display_data"
        }
      ],
      "source": [
        "#علاقه بين العمر وحالات الانتحار\n",
        "sns.boxenplot(data=drop_or_ceb_df,x=\"Suicide Attempt\",y=\"Age\")\n",
        "plt.title(\"Suicide Attempt vs Age \")"
      ]
    },
    {
      "cell_type": "code",
      "execution_count": null,
      "id": "cd60601c",
      "metadata": {
        "id": "cd60601c",
        "outputId": "ca5e770e-23cd-4ec0-850b-1084053600fe"
      },
      "outputs": [
        {
          "data": {
            "image/png": "[encoded data removed]",
            "text/plain": [
              "<Figure size 640x480 with 1 Axes>"
            ]
          },
          "metadata": {},
          "output_type": "display_data"
        }
      ],
      "source": [
        "#تاثير النوع علي معدل الانتحار\n",
        "sns.countplot(x='Gender', hue='Suicide Attempt', data=drop_or_ceb_df)\n",
        "plt.title('Suicide Attempt by Gender')\n",
        "plt.show()"
      ]
    },
    {
      "cell_type": "code",
      "execution_count": null,
      "id": "0916a8cc",
      "metadata": {
        "id": "0916a8cc",
        "outputId": "6a5b45d6-cfdb-4480-a7a8-a6800df91d42"
      },
      "outputs": [
        {
          "data": {
            "image/png": "[encoded data removed]",
            "text/plain": [
              "<Figure size 600x600 with 1 Axes>"
            ]
          },
          "metadata": {},
          "output_type": "display_data"
        }
      ],
      "source": [
        "\n",
        "drop_or_ceb_df['Self Harm Story'].value_counts().plot(\n",
        "    kind='pie', autopct='%1.1f%%', figsize=(6,6)\n",
        ")\n",
        "plt.title('Self Harm Storyt Distribution')\n",
        "plt.ylabel('')\n",
        "plt.show()\n"
      ]
    },
    {
      "cell_type": "code",
      "execution_count": null,
      "id": "268c5910",
      "metadata": {
        "id": "268c5910",
        "outputId": "6fd4bc17-f9d7-42d7-8f21-e877e6ee1327"
      },
      "outputs": [
        {
          "data": {
            "text/plain": [
              "Text(0.5, 1.0, 'Depression Level vs Age')"
            ]
          },
          "execution_count": 315,
          "metadata": {},
          "output_type": "execute_result"
        },
        {
          "data": {
            "image/png": "[encoded data removed]",
            "text/plain": [
              "<Figure size 640x480 with 1 Axes>"
            ]
          },
          "metadata": {},
          "output_type": "display_data"
        }
      ],
      "source": [
        "#علاقه بن العمر مرات الاكتاب  و هل له علاقه بالتفكير في الانتحار\n",
        "sns.scatterplot(data=drop_or_ceb_df,x=\"Depression Level\",y=\"Age\", hue=\"Suicide Attempt\")\n",
        "plt.title(\"Depression Level vs Age\")"
      ]
    },
    {
      "cell_type": "markdown",
      "source": [
        "##One Hot Encoding"
      ],
      "metadata": {
        "id": "d6Cp6YALPkNw"
      },
      "id": "d6Cp6YALPkNw"
    },
    {
      "cell_type": "code",
      "execution_count": null,
      "id": "c1b3e66b",
      "metadata": {
        "id": "c1b3e66b",
        "outputId": "bad7cde2-1f99-4537-a171-8cf11e1f8e4b"
      },
      "outputs": [
        {
          "data": {
            "text/html": [
              "<div>\n",
              "<style scoped>\n",
              "    .dataframe tbody tr th:only-of-type {\n",
              "        vertical-align: middle;\n",
              "    }\n",
              "\n",
              "    .dataframe tbody tr th {\n",
              "        vertical-align: top;\n",
              "    }\n",
              "\n",
              "    .dataframe thead th {\n",
              "        text-align: right;\n",
              "    }\n",
              "</style>\n",
              "<table border=\"1\" class=\"dataframe\">\n",
              "  <thead>\n",
              "    <tr style=\"text-align: right;\">\n",
              "      <th></th>\n",
              "      <th>Age</th>\n",
              "      <th>Suicide Attempt</th>\n",
              "      <th>Anxiety Level_Always</th>\n",
              "      <th>Anxiety Level_Often</th>\n",
              "      <th>Anxiety Level_Sometimes</th>\n",
              "      <th>Anxiety Level_sometimes</th>\n",
              "      <th>Depression Level_Always</th>\n",
              "      <th>Depression Level_Often</th>\n",
              "      <th>Depression Level_Sometimes</th>\n",
              "      <th>Depression Level_pf</th>\n",
              "      <th>...</th>\n",
              "      <th>Mental Support_Friends</th>\n",
              "      <th>Mental Support_loneliness</th>\n",
              "      <th>Relationship Condition_Breakup</th>\n",
              "      <th>Relationship Condition_In a relationship</th>\n",
              "      <th>Relationship Condition_Single</th>\n",
              "      <th>Family Problem_Financial</th>\n",
              "      <th>Family Problem_Parental conflict</th>\n",
              "      <th>Family Problem_nan</th>\n",
              "      <th>Self Harm Story_No</th>\n",
              "      <th>Self Harm Story_Yes</th>\n",
              "    </tr>\n",
              "  </thead>\n",
              "  <tbody>\n",
              "    <tr>\n",
              "      <th>0</th>\n",
              "      <td>22</td>\n",
              "      <td>Never Thought</td>\n",
              "      <td>1.0</td>\n",
              "      <td>0.0</td>\n",
              "      <td>0.0</td>\n",
              "      <td>0.0</td>\n",
              "      <td>1.0</td>\n",
              "      <td>0.0</td>\n",
              "      <td>0.0</td>\n",
              "      <td>0.0</td>\n",
              "      <td>...</td>\n",
              "      <td>0.0</td>\n",
              "      <td>0.0</td>\n",
              "      <td>0.0</td>\n",
              "      <td>1.0</td>\n",
              "      <td>0.0</td>\n",
              "      <td>0.0</td>\n",
              "      <td>0.0</td>\n",
              "      <td>1.0</td>\n",
              "      <td>1.0</td>\n",
              "      <td>0.0</td>\n",
              "    </tr>\n",
              "    <tr>\n",
              "      <th>1</th>\n",
              "      <td>23</td>\n",
              "      <td>Attempted</td>\n",
              "      <td>0.0</td>\n",
              "      <td>1.0</td>\n",
              "      <td>0.0</td>\n",
              "      <td>0.0</td>\n",
              "      <td>1.0</td>\n",
              "      <td>0.0</td>\n",
              "      <td>0.0</td>\n",
              "      <td>0.0</td>\n",
              "      <td>...</td>\n",
              "      <td>0.0</td>\n",
              "      <td>1.0</td>\n",
              "      <td>0.0</td>\n",
              "      <td>0.0</td>\n",
              "      <td>1.0</td>\n",
              "      <td>0.0</td>\n",
              "      <td>0.0</td>\n",
              "      <td>1.0</td>\n",
              "      <td>0.0</td>\n",
              "      <td>1.0</td>\n",
              "    </tr>\n",
              "    <tr>\n",
              "      <th>2</th>\n",
              "      <td>19</td>\n",
              "      <td>Thought</td>\n",
              "      <td>0.0</td>\n",
              "      <td>1.0</td>\n",
              "      <td>0.0</td>\n",
              "      <td>0.0</td>\n",
              "      <td>0.0</td>\n",
              "      <td>1.0</td>\n",
              "      <td>0.0</td>\n",
              "      <td>0.0</td>\n",
              "      <td>...</td>\n",
              "      <td>1.0</td>\n",
              "      <td>0.0</td>\n",
              "      <td>1.0</td>\n",
              "      <td>0.0</td>\n",
              "      <td>0.0</td>\n",
              "      <td>0.0</td>\n",
              "      <td>1.0</td>\n",
              "      <td>0.0</td>\n",
              "      <td>0.0</td>\n",
              "      <td>1.0</td>\n",
              "    </tr>\n",
              "    <tr>\n",
              "      <th>3</th>\n",
              "      <td>18</td>\n",
              "      <td>Thought</td>\n",
              "      <td>0.0</td>\n",
              "      <td>1.0</td>\n",
              "      <td>0.0</td>\n",
              "      <td>0.0</td>\n",
              "      <td>1.0</td>\n",
              "      <td>0.0</td>\n",
              "      <td>0.0</td>\n",
              "      <td>0.0</td>\n",
              "      <td>...</td>\n",
              "      <td>0.0</td>\n",
              "      <td>1.0</td>\n",
              "      <td>0.0</td>\n",
              "      <td>0.0</td>\n",
              "      <td>1.0</td>\n",
              "      <td>1.0</td>\n",
              "      <td>0.0</td>\n",
              "      <td>0.0</td>\n",
              "      <td>0.0</td>\n",
              "      <td>1.0</td>\n",
              "    </tr>\n",
              "    <tr>\n",
              "      <th>4</th>\n",
              "      <td>19</td>\n",
              "      <td>Never Thought</td>\n",
              "      <td>0.0</td>\n",
              "      <td>0.0</td>\n",
              "      <td>1.0</td>\n",
              "      <td>0.0</td>\n",
              "      <td>0.0</td>\n",
              "      <td>0.0</td>\n",
              "      <td>1.0</td>\n",
              "      <td>0.0</td>\n",
              "      <td>...</td>\n",
              "      <td>0.0</td>\n",
              "      <td>0.0</td>\n",
              "      <td>0.0</td>\n",
              "      <td>0.0</td>\n",
              "      <td>1.0</td>\n",
              "      <td>0.0</td>\n",
              "      <td>0.0</td>\n",
              "      <td>1.0</td>\n",
              "      <td>1.0</td>\n",
              "      <td>0.0</td>\n",
              "    </tr>\n",
              "    <tr>\n",
              "      <th>...</th>\n",
              "      <td>...</td>\n",
              "      <td>...</td>\n",
              "      <td>...</td>\n",
              "      <td>...</td>\n",
              "      <td>...</td>\n",
              "      <td>...</td>\n",
              "      <td>...</td>\n",
              "      <td>...</td>\n",
              "      <td>...</td>\n",
              "      <td>...</td>\n",
              "      <td>...</td>\n",
              "      <td>...</td>\n",
              "      <td>...</td>\n",
              "      <td>...</td>\n",
              "      <td>...</td>\n",
              "      <td>...</td>\n",
              "      <td>...</td>\n",
              "      <td>...</td>\n",
              "      <td>...</td>\n",
              "      <td>...</td>\n",
              "      <td>...</td>\n",
              "    </tr>\n",
              "    <tr>\n",
              "      <th>1081</th>\n",
              "      <td>26</td>\n",
              "      <td>Thought</td>\n",
              "      <td>0.0</td>\n",
              "      <td>1.0</td>\n",
              "      <td>0.0</td>\n",
              "      <td>0.0</td>\n",
              "      <td>0.0</td>\n",
              "      <td>0.0</td>\n",
              "      <td>1.0</td>\n",
              "      <td>0.0</td>\n",
              "      <td>...</td>\n",
              "      <td>0.0</td>\n",
              "      <td>0.0</td>\n",
              "      <td>1.0</td>\n",
              "      <td>0.0</td>\n",
              "      <td>0.0</td>\n",
              "      <td>1.0</td>\n",
              "      <td>0.0</td>\n",
              "      <td>0.0</td>\n",
              "      <td>1.0</td>\n",
              "      <td>0.0</td>\n",
              "    </tr>\n",
              "    <tr>\n",
              "      <th>1082</th>\n",
              "      <td>22</td>\n",
              "      <td>Thought</td>\n",
              "      <td>0.0</td>\n",
              "      <td>1.0</td>\n",
              "      <td>0.0</td>\n",
              "      <td>0.0</td>\n",
              "      <td>0.0</td>\n",
              "      <td>0.0</td>\n",
              "      <td>1.0</td>\n",
              "      <td>0.0</td>\n",
              "      <td>...</td>\n",
              "      <td>1.0</td>\n",
              "      <td>0.0</td>\n",
              "      <td>0.0</td>\n",
              "      <td>0.0</td>\n",
              "      <td>1.0</td>\n",
              "      <td>0.0</td>\n",
              "      <td>1.0</td>\n",
              "      <td>0.0</td>\n",
              "      <td>1.0</td>\n",
              "      <td>0.0</td>\n",
              "    </tr>\n",
              "    <tr>\n",
              "      <th>1083</th>\n",
              "      <td>23</td>\n",
              "      <td>Thought</td>\n",
              "      <td>0.0</td>\n",
              "      <td>1.0</td>\n",
              "      <td>0.0</td>\n",
              "      <td>0.0</td>\n",
              "      <td>0.0</td>\n",
              "      <td>1.0</td>\n",
              "      <td>0.0</td>\n",
              "      <td>0.0</td>\n",
              "      <td>...</td>\n",
              "      <td>0.0</td>\n",
              "      <td>0.0</td>\n",
              "      <td>0.0</td>\n",
              "      <td>0.0</td>\n",
              "      <td>1.0</td>\n",
              "      <td>0.0</td>\n",
              "      <td>0.0</td>\n",
              "      <td>1.0</td>\n",
              "      <td>1.0</td>\n",
              "      <td>0.0</td>\n",
              "    </tr>\n",
              "    <tr>\n",
              "      <th>1084</th>\n",
              "      <td>25</td>\n",
              "      <td>Thought</td>\n",
              "      <td>0.0</td>\n",
              "      <td>0.0</td>\n",
              "      <td>1.0</td>\n",
              "      <td>0.0</td>\n",
              "      <td>0.0</td>\n",
              "      <td>0.0</td>\n",
              "      <td>1.0</td>\n",
              "      <td>0.0</td>\n",
              "      <td>...</td>\n",
              "      <td>1.0</td>\n",
              "      <td>0.0</td>\n",
              "      <td>0.0</td>\n",
              "      <td>0.0</td>\n",
              "      <td>1.0</td>\n",
              "      <td>0.0</td>\n",
              "      <td>0.0</td>\n",
              "      <td>1.0</td>\n",
              "      <td>1.0</td>\n",
              "      <td>0.0</td>\n",
              "    </tr>\n",
              "    <tr>\n",
              "      <th>1085</th>\n",
              "      <td>23</td>\n",
              "      <td>Thought</td>\n",
              "      <td>0.0</td>\n",
              "      <td>1.0</td>\n",
              "      <td>0.0</td>\n",
              "      <td>0.0</td>\n",
              "      <td>0.0</td>\n",
              "      <td>0.0</td>\n",
              "      <td>1.0</td>\n",
              "      <td>0.0</td>\n",
              "      <td>...</td>\n",
              "      <td>1.0</td>\n",
              "      <td>0.0</td>\n",
              "      <td>0.0</td>\n",
              "      <td>1.0</td>\n",
              "      <td>0.0</td>\n",
              "      <td>1.0</td>\n",
              "      <td>0.0</td>\n",
              "      <td>0.0</td>\n",
              "      <td>1.0</td>\n",
              "      <td>0.0</td>\n",
              "    </tr>\n",
              "  </tbody>\n",
              "</table>\n",
              "<p>1086 rows × 33 columns</p>\n",
              "</div>"
            ],
            "text/plain": [
              "      Age Suicide Attempt  Anxiety Level_Always  Anxiety Level_Often  \\\n",
              "0      22   Never Thought                   1.0                  0.0   \n",
              "1      23       Attempted                   0.0                  1.0   \n",
              "2      19         Thought                   0.0                  1.0   \n",
              "3      18         Thought                   0.0                  1.0   \n",
              "4      19   Never Thought                   0.0                  0.0   \n",
              "...   ...             ...                   ...                  ...   \n",
              "1081   26         Thought                   0.0                  1.0   \n",
              "1082   22         Thought                   0.0                  1.0   \n",
              "1083   23         Thought                   0.0                  1.0   \n",
              "1084   25         Thought                   0.0                  0.0   \n",
              "1085   23         Thought                   0.0                  1.0   \n",
              "\n",
              "      Anxiety Level_Sometimes  Anxiety Level_sometimes  \\\n",
              "0                         0.0                      0.0   \n",
              "1                         0.0                      0.0   \n",
              "2                         0.0                      0.0   \n",
              "3                         0.0                      0.0   \n",
              "4                         1.0                      0.0   \n",
              "...                       ...                      ...   \n",
              "1081                      0.0                      0.0   \n",
              "1082                      0.0                      0.0   \n",
              "1083                      0.0                      0.0   \n",
              "1084                      1.0                      0.0   \n",
              "1085                      0.0                      0.0   \n",
              "\n",
              "      Depression Level_Always  Depression Level_Often  \\\n",
              "0                         1.0                     0.0   \n",
              "1                         1.0                     0.0   \n",
              "2                         0.0                     1.0   \n",
              "3                         1.0                     0.0   \n",
              "4                         0.0                     0.0   \n",
              "...                       ...                     ...   \n",
              "1081                      0.0                     0.0   \n",
              "1082                      0.0                     0.0   \n",
              "1083                      0.0                     1.0   \n",
              "1084                      0.0                     0.0   \n",
              "1085                      0.0                     0.0   \n",
              "\n",
              "      Depression Level_Sometimes  Depression Level_pf  ...  \\\n",
              "0                            0.0                  0.0  ...   \n",
              "1                            0.0                  0.0  ...   \n",
              "2                            0.0                  0.0  ...   \n",
              "3                            0.0                  0.0  ...   \n",
              "4                            1.0                  0.0  ...   \n",
              "...                          ...                  ...  ...   \n",
              "1081                         1.0                  0.0  ...   \n",
              "1082                         1.0                  0.0  ...   \n",
              "1083                         0.0                  0.0  ...   \n",
              "1084                         1.0                  0.0  ...   \n",
              "1085                         1.0                  0.0  ...   \n",
              "\n",
              "      Mental Support_Friends  Mental Support_loneliness  \\\n",
              "0                        0.0                        0.0   \n",
              "1                        0.0                        1.0   \n",
              "2                        1.0                        0.0   \n",
              "3                        0.0                        1.0   \n",
              "4                        0.0                        0.0   \n",
              "...                      ...                        ...   \n",
              "1081                     0.0                        0.0   \n",
              "1082                     1.0                        0.0   \n",
              "1083                     0.0                        0.0   \n",
              "1084                     1.0                        0.0   \n",
              "1085                     1.0                        0.0   \n",
              "\n",
              "      Relationship Condition_Breakup  \\\n",
              "0                                0.0   \n",
              "1                                0.0   \n",
              "2                                1.0   \n",
              "3                                0.0   \n",
              "4                                0.0   \n",
              "...                              ...   \n",
              "1081                             1.0   \n",
              "1082                             0.0   \n",
              "1083                             0.0   \n",
              "1084                             0.0   \n",
              "1085                             0.0   \n",
              "\n",
              "      Relationship Condition_In a relationship  Relationship Condition_Single  \\\n",
              "0                                          1.0                            0.0   \n",
              "1                                          0.0                            1.0   \n",
              "2                                          0.0                            0.0   \n",
              "3                                          0.0                            1.0   \n",
              "4                                          0.0                            1.0   \n",
              "...                                        ...                            ...   \n",
              "1081                                       0.0                            0.0   \n",
              "1082                                       0.0                            1.0   \n",
              "1083                                       0.0                            1.0   \n",
              "1084                                       0.0                            1.0   \n",
              "1085                                       1.0                            0.0   \n",
              "\n",
              "      Family Problem_Financial  Family Problem_Parental conflict  \\\n",
              "0                          0.0                               0.0   \n",
              "1                          0.0                               0.0   \n",
              "2                          0.0                               1.0   \n",
              "3                          1.0                               0.0   \n",
              "4                          0.0                               0.0   \n",
              "...                        ...                               ...   \n",
              "1081                       1.0                               0.0   \n",
              "1082                       0.0                               1.0   \n",
              "1083                       0.0                               0.0   \n",
              "1084                       0.0                               0.0   \n",
              "1085                       1.0                               0.0   \n",
              "\n",
              "      Family Problem_nan  Self Harm Story_No  Self Harm Story_Yes  \n",
              "0                    1.0                 1.0                  0.0  \n",
              "1                    1.0                 0.0                  1.0  \n",
              "2                    0.0                 0.0                  1.0  \n",
              "3                    0.0                 0.0                  1.0  \n",
              "4                    1.0                 1.0                  0.0  \n",
              "...                  ...                 ...                  ...  \n",
              "1081                 0.0                 1.0                  0.0  \n",
              "1082                 0.0                 1.0                  0.0  \n",
              "1083                 1.0                 1.0                  0.0  \n",
              "1084                 1.0                 1.0                  0.0  \n",
              "1085                 0.0                 1.0                  0.0  \n",
              "\n",
              "[1086 rows x 33 columns]"
            ]
          },
          "execution_count": 316,
          "metadata": {},
          "output_type": "execute_result"
        }
      ],
      "source": [
        "#الانكودر\n",
        "#كل التصنفات الفريد اقصي عدد فيها هو 4 فاهشتغل one hot\n",
        "from sklearn.preprocessing import OneHotEncoder\n",
        "\n",
        "categorical_cols = [\"Anxiety Level\",'Depression Level','Health Condition','Academic Performance','Stress Level','Gender', 'Mental Support', 'Relationship Condition', 'Family Problem', 'Self Harm Story']\n",
        "\n",
        "encoder = OneHotEncoder(sparse_output=False)\n",
        "encoded_data = encoder.fit_transform(drop_or_ceb_df[categorical_cols])\n",
        "encoded_df = pd.DataFrame(encoded_data, columns=encoder.get_feature_names_out(categorical_cols))\n",
        "data_numeric = drop_or_ceb_df.drop(columns=categorical_cols)\n",
        "final_df = pd.concat([data_numeric.reset_index(drop=True), encoded_df.reset_index(drop=True)], axis=1)\n",
        "final_df# دي اخر داتا ست فيها كل التعديلات\n",
        "\n",
        "#  ملحوظه لو هتشتغل في الموديل علي الاسقطا العمود الي فيه فيم فارغه الي اسمهFamily Problem متنساش تحذفه من الليست الي هتدخل علي الانكودر علشان متعملش مشكله\n",
        "\n",
        "\n"
      ]
    },
    {
      "cell_type": "code",
      "execution_count": null,
      "id": "2d537538",
      "metadata": {
        "id": "2d537538",
        "outputId": "31ffac0e-fd30-4b4e-d307-b9b9859527d9"
      },
      "outputs": [
        {
          "data": {
            "text/plain": [
              "Suicide Attempt\n",
              "Never Thought    601\n",
              "Thought          334\n",
              "Attempted        151\n",
              "Name: count, dtype: int64"
            ]
          },
          "execution_count": 317,
          "metadata": {},
          "output_type": "execute_result"
        }
      ],
      "source": [
        "final_df['Suicide Attempt'].value_counts()"
      ]
    },
    {
      "cell_type": "code",
      "execution_count": null,
      "id": "9aab29e8",
      "metadata": {
        "id": "9aab29e8",
        "outputId": "a9079c52-02ac-41f3-eb0a-d30052d9dd5c"
      },
      "outputs": [
        {
          "name": "stderr",
          "output_type": "stream",
          "text": [
            "C:\\Users\\And\\AppData\\Local\\Temp\\ipykernel_12860\\1017557421.py:1: FutureWarning: A value is trying to be set on a copy of a DataFrame or Series through chained assignment using an inplace method.\n",
            "The behavior will change in pandas 3.0. This inplace method will never work because the intermediate object on which we are setting values always behaves as a copy.\n",
            "\n",
            "For example, when doing 'df[col].method(value, inplace=True)', try using 'df.method({col: value}, inplace=True)' or df[col] = df[col].method(value) instead, to perform the operation inplace on the original object.\n",
            "\n",
            "\n",
            "  final_df['Suicide Attempt'].replace(['Never Thought', 'Thought', 'Attempted'], [0, 1, 2], inplace=True)\n",
            "C:\\Users\\And\\AppData\\Local\\Temp\\ipykernel_12860\\1017557421.py:1: FutureWarning: Downcasting behavior in `replace` is deprecated and will be removed in a future version. To retain the old behavior, explicitly call `result.infer_objects(copy=False)`. To opt-in to the future behavior, set `pd.set_option('future.no_silent_downcasting', True)`\n",
            "  final_df['Suicide Attempt'].replace(['Never Thought', 'Thought', 'Attempted'], [0, 1, 2], inplace=True)\n"
          ]
        }
      ],
      "source": [
        "final_df['Suicide Attempt'].replace(['Never Thought', 'Thought', 'Attempted'], [0, 1, 2], inplace=True)"
      ]
    },
    {
      "cell_type": "markdown",
      "source": [
        "##Split"
      ],
      "metadata": {
        "id": "SUdMkDgnPwwY"
      },
      "id": "SUdMkDgnPwwY"
    },
    {
      "cell_type": "code",
      "execution_count": null,
      "id": "66c5aec0",
      "metadata": {
        "id": "66c5aec0"
      },
      "outputs": [],
      "source": [
        "X=final_df.drop(columns=['Suicide Attempt'])\n",
        "y=final_df['Suicide Attempt']"
      ]
    },
    {
      "cell_type": "code",
      "execution_count": null,
      "id": "f757ac70",
      "metadata": {
        "id": "f757ac70"
      },
      "outputs": [],
      "source": [
        "# from sklearn.preprocessing import StandardScaler\n",
        "# sc_X = StandardScaler()\n",
        "# X = sc_X.fit_transform(X)"
      ]
    },
    {
      "cell_type": "code",
      "execution_count": null,
      "id": "f99006f1",
      "metadata": {
        "id": "f99006f1"
      },
      "outputs": [],
      "source": [
        "from sklearn.model_selection import train_test_split\n",
        "X_train, X_test, y_train, y_test = train_test_split(X, y, test_size=0.2, random_state=42)"
      ]
    },
    {
      "cell_type": "markdown",
      "source": [
        "##Decision Tree"
      ],
      "metadata": {
        "id": "l9kRHnRUP1Gv"
      },
      "id": "l9kRHnRUP1Gv"
    },
    {
      "cell_type": "code",
      "execution_count": null,
      "id": "ddf334ad",
      "metadata": {
        "id": "ddf334ad",
        "outputId": "6fe1533f-3918-4b11-c79e-8c88de81963b"
      },
      "outputs": [
        {
          "name": "stdout",
          "output_type": "stream",
          "text": [
            "Accuracy: 0.8302752293577982\n",
            "Confusion Matrix:\n",
            " [[111   7   0]\n",
            " [ 19  44   6]\n",
            " [  1   4  26]]\n",
            "Classification Report:\n",
            "               precision    recall  f1-score   support\n",
            "\n",
            "           0       0.85      0.94      0.89       118\n",
            "           1       0.80      0.64      0.71        69\n",
            "           2       0.81      0.84      0.83        31\n",
            "\n",
            "    accuracy                           0.83       218\n",
            "   macro avg       0.82      0.81      0.81       218\n",
            "weighted avg       0.83      0.83      0.82       218\n",
            "\n"
          ]
        }
      ],
      "source": [
        "from sklearn.tree import DecisionTreeClassifier\n",
        "dt = DecisionTreeClassifier(random_state=42,max_depth=10, min_samples_leaf= 10,min_samples_split=15)\n",
        "\n",
        "dt.fit(X_train, y_train)\n",
        "y_pred = dt.predict(X_test)\n",
        "\n",
        "from sklearn.metrics import accuracy_score, confusion_matrix, classification_report\n",
        "print(\"Accuracy:\", accuracy_score(y_test, y_pred))\n",
        "print(\"Confusion Matrix:\\n\", confusion_matrix(y_test, y_pred))\n",
        "print(\"Classification Report:\\n\", classification_report(y_test, y_pred))"
      ]
    },
    {
      "cell_type": "markdown",
      "source": [
        "###Decision Tree After Sampling"
      ],
      "metadata": {
        "id": "jOkprGRUP-k_"
      },
      "id": "jOkprGRUP-k_"
    },
    {
      "cell_type": "code",
      "execution_count": null,
      "id": "7d9d60b6",
      "metadata": {
        "id": "7d9d60b6"
      },
      "outputs": [],
      "source": [
        "from imblearn.over_sampling import RandomOverSampler\n",
        "from imblearn.under_sampling import RandomUnderSampler\n",
        "ros = RandomOverSampler(\n",
        "    sampling_strategy='minority',random_state=42)\n",
        "X_resampled, y_resampled = ros.fit_resample(X, y)\n",
        "\n",
        "rus= RandomUnderSampler(\n",
        "    sampling_strategy='majority',random_state=42)\n",
        "X_resampled, y_resampled = rus.fit_resample(X_resampled, y_resampled)"
      ]
    },
    {
      "cell_type": "code",
      "execution_count": null,
      "id": "01164e4f",
      "metadata": {
        "id": "01164e4f",
        "outputId": "a82394e4-2509-4ca7-bd72-3a4b2b63d757"
      },
      "outputs": [
        {
          "name": "stdout",
          "output_type": "stream",
          "text": [
            "Resampled X shape: (1269, 32)\n",
            "Resampled y shape: (1269,)\n"
          ]
        }
      ],
      "source": [
        "print(\"Resampled X shape:\", X_resampled.shape)\n",
        "print(\"Resampled y shape:\", y_resampled.shape)"
      ]
    },
    {
      "cell_type": "code",
      "execution_count": null,
      "id": "531aef3f",
      "metadata": {
        "id": "531aef3f"
      },
      "outputs": [],
      "source": [
        "from sklearn.model_selection import train_test_split\n",
        "X_train, X_test, y_train, y_test = train_test_split(X_resampled, y_resampled, test_size=0.2, random_state=42)\n",
        "from sklearn.tree import DecisionTreeClassifier\n",
        "dt = DecisionTreeClassifier(random_state=42,max_depth=10, min_samples_leaf= 10,min_samples_split=15)\n",
        "dt.fit(X_train, y_train)\n",
        "y_pred = dt.predict(X_test)"
      ]
    },
    {
      "cell_type": "markdown",
      "source": [
        "####Decision Tree After GridSearchCV"
      ],
      "metadata": {
        "id": "WMFO7oHgQQSf"
      },
      "id": "WMFO7oHgQQSf"
    },
    {
      "cell_type": "code",
      "execution_count": null,
      "id": "3a5c28d9",
      "metadata": {
        "id": "3a5c28d9",
        "outputId": "818dc380-3a83-499a-f5b4-a327c340027d"
      },
      "outputs": [
        {
          "name": "stdout",
          "output_type": "stream",
          "text": [
            "Best parameters found:  {'max_depth': 10, 'min_samples_leaf': 2, 'min_samples_split': 15}\n",
            "Best Model Accuracy: 0.8385826771653543\n"
          ]
        }
      ],
      "source": [
        "from sklearn.model_selection import GridSearchCV\n",
        "param_grid = {\n",
        "    'max_depth': [5, 10, 15, 20, None],\n",
        "    'min_samples_split': [2, 5, 10, 15],\n",
        "    'min_samples_leaf': [1, 2, 4, 10],\n",
        "}\n",
        "grid_search = GridSearchCV(DecisionTreeClassifier(random_state=42), param_grid, cv=10, scoring='accuracy')\n",
        "grid_search.fit(X_train, y_train)\n",
        "print(\"Best parameters found: \", grid_search.best_params_)\n",
        "best_dt = grid_search.best_estimator_\n",
        "y_pred_best = best_dt.predict(X_test)\n",
        "print(\"Best Model Accuracy:\", accuracy_score(y_test, y_pred_best))"
      ]
    },
    {
      "cell_type": "markdown",
      "source": [
        "##Random Forest"
      ],
      "metadata": {
        "id": "8mvPQZpMRmJf"
      },
      "id": "8mvPQZpMRmJf"
    },
    {
      "cell_type": "code",
      "execution_count": null,
      "id": "83e77537-9603-413c-9339-e143c9122396",
      "metadata": {
        "id": "83e77537-9603-413c-9339-e143c9122396",
        "outputId": "78213de0-aee3-4d11-adb8-b09af5758c2d"
      },
      "outputs": [
        {
          "name": "stdout",
          "output_type": "stream",
          "text": [
            "Random Forest Accuracy: 0.8582677165354331\n",
            "Random Forest Confusion Matrix:\n",
            " [[ 60  13   0]\n",
            " [ 11  46  10]\n",
            " [  0   2 112]]\n",
            "Random Forest Classification Report:\n",
            "               precision    recall  f1-score   support\n",
            "\n",
            "           0       0.85      0.82      0.83        73\n",
            "           1       0.75      0.69      0.72        67\n",
            "           2       0.92      0.98      0.95       114\n",
            "\n",
            "    accuracy                           0.86       254\n",
            "   macro avg       0.84      0.83      0.83       254\n",
            "weighted avg       0.85      0.86      0.86       254\n",
            "\n"
          ]
        }
      ],
      "source": [
        "from sklearn.ensemble import RandomForestClassifier\n",
        "rf = RandomForestClassifier(random_state=42, n_estimators=100, max_depth=10, min_samples_leaf=10, min_samples_split=15)\n",
        "rf.fit(X_train, y_train)\n",
        "y_pred_rf = rf.predict(X_test)\n",
        "from sklearn.metrics import accuracy_score, confusion_matrix, classification_report\n",
        "print(\"Random Forest Accuracy:\", accuracy_score(y_test, y_pred_rf))\n",
        "print(\"Random Forest Confusion Matrix:\\n\", confusion_matrix(y_test, y_pred_rf))\n",
        "print(\"Random Forest Classification Report:\\n\", classification_report(y_test, y_pred_rf))"
      ]
    },
    {
      "cell_type": "markdown",
      "source": [
        "###Random Forest With GridSearchCV"
      ],
      "metadata": {
        "id": "ukA4GDOSRtc2"
      },
      "id": "ukA4GDOSRtc2"
    },
    {
      "cell_type": "code",
      "execution_count": null,
      "id": "00c73df2",
      "metadata": {
        "id": "00c73df2",
        "outputId": "1555e189-d06d-4e1c-f7c4-f1a5fa1bd2e7"
      },
      "outputs": [
        {
          "name": "stdout",
          "output_type": "stream",
          "text": [
            "Best parameters found:  {'max_depth': 10, 'min_samples_leaf': 1, 'min_samples_split': 2, 'n_estimators': 100}\n",
            "Best Model Accuracy: 0.8818897637795275\n"
          ]
        }
      ],
      "source": [
        "from sklearn.model_selection import GridSearchCV\n",
        "param_grid = {\n",
        "    'n_estimators': [50, 100, 200],\n",
        "    'max_depth': [5, 10, 15, None],\n",
        "    'min_samples_split': [2, 5, 10],\n",
        "    'min_samples_leaf': [1, 2, 4],\n",
        "}\n",
        "grid_search = GridSearchCV(rf, param_grid, cv=10, scoring='accuracy')\n",
        "grid_search.fit(X_train, y_train)\n",
        "print(\"Best parameters found: \", grid_search.best_params_)\n",
        "best_dt = grid_search.best_estimator_\n",
        "y_pred_best = best_dt.predict(X_test)\n",
        "print(\"Best Model Accuracy:\", accuracy_score(y_test, y_pred_best))"
      ]
    },
    {
      "cell_type": "markdown",
      "source": [
        "##TEST Decision Tree&Random Forest with Scaling"
      ],
      "metadata": {
        "id": "Bz84xiLMR0_Q"
      },
      "id": "Bz84xiLMR0_Q"
    },
    {
      "cell_type": "code",
      "execution_count": null,
      "id": "84100c5f-1580-4f82-9999-03ea93073eee",
      "metadata": {
        "id": "84100c5f-1580-4f82-9999-03ea93073eee"
      },
      "outputs": [],
      "source": [
        "from sklearn.preprocessing import MinMaxScaler\n",
        "scaler = MinMaxScaler()\n",
        "X_resampled_scaled = scaler.fit_transform(X_resampled)"
      ]
    },
    {
      "cell_type": "code",
      "execution_count": null,
      "id": "ac18b499-d9aa-41ad-ac83-4e49d0de90b6",
      "metadata": {
        "id": "ac18b499-d9aa-41ad-ac83-4e49d0de90b6",
        "outputId": "59878d6b-fe39-45e6-ccae-39a9bb48e4ea"
      },
      "outputs": [
        {
          "name": "stdout",
          "output_type": "stream",
          "text": [
            "Accuracy: 0.8307086614173228\n",
            "Confusion Matrix:\n",
            " [[ 60  13   0]\n",
            " [ 14  42  11]\n",
            " [  0   5 109]]\n"
          ]
        }
      ],
      "source": [
        "from sklearn.model_selection import train_test_split\n",
        "X_train, X_test, y_train, y_test = train_test_split(X_resampled_scaled, y_resampled, test_size=0.2, random_state=42)\n",
        "from sklearn.tree import DecisionTreeClassifier\n",
        "dt = DecisionTreeClassifier(random_state=42,max_depth=10, min_samples_leaf= 10,min_samples_split=15)\n",
        "dt.fit(X_train, y_train)\n",
        "y_pred = dt.predict(X_test)\n",
        "from sklearn.metrics import accuracy_score, confusion_matrix, classification_report\n",
        "print(\"Accuracy:\", accuracy_score(y_test, y_pred))\n",
        "print(\"Confusion Matrix:\\n\", confusion_matrix(y_test, y_pred))"
      ]
    },
    {
      "cell_type": "code",
      "execution_count": null,
      "id": "133b7064-caac-4735-8e22-f9df194c90b0",
      "metadata": {
        "id": "133b7064-caac-4735-8e22-f9df194c90b0",
        "outputId": "806d4caf-24cf-4292-8714-c137d7876df7"
      },
      "outputs": [
        {
          "name": "stdout",
          "output_type": "stream",
          "text": [
            "Random Forest Accuracy: 0.8818897637795275\n",
            "Random Forest Confusion Matrix:\n",
            " [[ 62  11   0]\n",
            " [ 12  48   7]\n",
            " [  0   0 114]]\n"
          ]
        }
      ],
      "source": [
        "rf = RandomForestClassifier(random_state=42, n_estimators=100, max_depth=10, min_samples_leaf=1, min_samples_split=5)\n",
        "rf.fit(X_train, y_train)\n",
        "y_pred_rf = rf.predict(X_test)\n",
        "from sklearn.metrics import accuracy_score, confusion_matrix, classification_report\n",
        "print(\"Random Forest Accuracy:\", accuracy_score(y_test, y_pred_rf))\n",
        "print(\"Random Forest Confusion Matrix:\\n\", confusion_matrix(y_test, y_pred_rf))"
      ]
    },
    {
      "cell_type": "markdown",
      "source": [
        "##Neural Network"
      ],
      "metadata": {
        "id": "AEuJ_eEqStw_"
      },
      "id": "AEuJ_eEqStw_"
    },
    {
      "cell_type": "code",
      "execution_count": null,
      "id": "945ec5a1",
      "metadata": {
        "id": "945ec5a1"
      },
      "outputs": [],
      "source": [
        "from sklearn.model_selection import train_test_split\n",
        "X_train, X_test, y_train, y_test = train_test_split(X, y, test_size=0.2, random_state=42)"
      ]
    },
    {
      "cell_type": "code",
      "execution_count": null,
      "id": "ea759be8-2c66-4471-853f-28ea49fb7e8e",
      "metadata": {
        "id": "ea759be8-2c66-4471-853f-28ea49fb7e8e",
        "outputId": "79787509-6230-42fd-95ca-ac4a1ab879f5"
      },
      "outputs": [
        {
          "name": "stderr",
          "output_type": "stream",
          "text": [
            "c:\\Users\\And\\anaconda3\\Lib\\site-packages\\keras\\src\\layers\\core\\dense.py:87: UserWarning: Do not pass an `input_shape`/`input_dim` argument to a layer. When using Sequential models, prefer using an `Input(shape)` object as the first layer in the model instead.\n",
            "  super().__init__(activity_regularizer=activity_regularizer, **kwargs)\n"
          ]
        }
      ],
      "source": [
        "from tensorflow import keras\n",
        "from tensorflow.keras.models import Sequential\n",
        "from tensorflow.keras.layers import Dense, Dropout\n",
        "from tensorflow.keras import callbacks\n",
        "model = Sequential(\n",
        "    [\n",
        "        Dense(256, activation='relu', input_shape=(X_resampled.shape[1],)),\n",
        "        Dense(128, activation='relu'),\n",
        "        Dense(64, activation='relu'),\n",
        "        Dense(64, activation='tanh'),\n",
        "        Dense(32, activation='relu'),\n",
        "        Dense(16, activation='relu'),\n",
        "        Dense(8, activation='relu'),\n",
        "        Dense(3, activation='softmax')  # Assuming 3 classes\n",
        "    ]\n",
        ")\n",
        "model.compile(optimizer='adam', loss='sparse_categorical_crossentropy', metrics=['accuracy'])\n",
        "early_stopping = callbacks.EarlyStopping(\n",
        "    min_delta=0.001,\n",
        "    patience=20,\n",
        "    restore_best_weights=True\n",
        "    )"
      ]
    },
    {
      "cell_type": "code",
      "execution_count": null,
      "id": "d534e365-a0fe-4efe-95ea-f33edaed6297",
      "metadata": {
        "id": "d534e365-a0fe-4efe-95ea-f33edaed6297",
        "outputId": "6d6edae6-72ed-45af-afc8-111beaa307b5"
      },
      "outputs": [
        {
          "name": "stdout",
          "output_type": "stream",
          "text": [
            "Epoch 1/50\n",
            "\u001b[1m28/28\u001b[0m \u001b[32m━━━━━━━━━━━━━━━━━━━━\u001b[0m\u001b[37m\u001b[0m \u001b[1m4s\u001b[0m 18ms/step - accuracy: 0.5248 - loss: 0.9826 - val_accuracy: 0.5413 - val_loss: 0.8208\n",
            "Epoch 2/50\n",
            "\u001b[1m28/28\u001b[0m \u001b[32m━━━━━━━━━━━━━━━━━━━━\u001b[0m\u001b[37m\u001b[0m \u001b[1m0s\u001b[0m 6ms/step - accuracy: 0.5917 - loss: 0.7182 - val_accuracy: 0.7477 - val_loss: 0.6194\n",
            "Epoch 3/50\n",
            "\u001b[1m28/28\u001b[0m \u001b[32m━━━━━━━━━━━━━━━━━━━━\u001b[0m\u001b[37m\u001b[0m \u001b[1m0s\u001b[0m 6ms/step - accuracy: 0.7857 - loss: 0.5426 - val_accuracy: 0.7569 - val_loss: 0.5400\n",
            "Epoch 4/50\n",
            "\u001b[1m28/28\u001b[0m \u001b[32m━━━━━━━━━━━━━━━━━━━━\u001b[0m\u001b[37m\u001b[0m \u001b[1m0s\u001b[0m 6ms/step - accuracy: 0.7892 - loss: 0.4680 - val_accuracy: 0.7569 - val_loss: 0.5795\n",
            "Epoch 5/50\n",
            "\u001b[1m28/28\u001b[0m \u001b[32m━━━━━━━━━━━━━━━━━━━━\u001b[0m\u001b[37m\u001b[0m \u001b[1m0s\u001b[0m 6ms/step - accuracy: 0.7810 - loss: 0.5015 - val_accuracy: 0.7706 - val_loss: 0.4406\n",
            "Epoch 6/50\n",
            "\u001b[1m28/28\u001b[0m \u001b[32m━━━━━━━━━━━━━━━━━━━━\u001b[0m\u001b[37m\u001b[0m \u001b[1m0s\u001b[0m 6ms/step - accuracy: 0.8422 - loss: 0.3841 - val_accuracy: 0.7477 - val_loss: 0.4899\n",
            "Epoch 7/50\n",
            "\u001b[1m28/28\u001b[0m \u001b[32m━━━━━━━━━━━━━━━━━━━━\u001b[0m\u001b[37m\u001b[0m \u001b[1m0s\u001b[0m 7ms/step - accuracy: 0.8268 - loss: 0.4016 - val_accuracy: 0.8165 - val_loss: 0.4194\n",
            "Epoch 8/50\n",
            "\u001b[1m28/28\u001b[0m \u001b[32m━━━━━━━━━━━━━━━━━━━━\u001b[0m\u001b[37m\u001b[0m \u001b[1m0s\u001b[0m 7ms/step - accuracy: 0.8526 - loss: 0.3646 - val_accuracy: 0.8028 - val_loss: 0.4343\n",
            "Epoch 9/50\n",
            "\u001b[1m28/28\u001b[0m \u001b[32m━━━━━━━━━━━━━━━━━━━━\u001b[0m\u001b[37m\u001b[0m \u001b[1m0s\u001b[0m 6ms/step - accuracy: 0.8496 - loss: 0.3542 - val_accuracy: 0.7890 - val_loss: 0.4920\n",
            "Epoch 10/50\n",
            "\u001b[1m28/28\u001b[0m \u001b[32m━━━━━━━━━━━━━━━━━━━━\u001b[0m\u001b[37m\u001b[0m \u001b[1m0s\u001b[0m 6ms/step - accuracy: 0.8229 - loss: 0.3776 - val_accuracy: 0.7752 - val_loss: 0.5088\n",
            "Epoch 11/50\n",
            "\u001b[1m28/28\u001b[0m \u001b[32m━━━━━━━━━━━━━━━━━━━━\u001b[0m\u001b[37m\u001b[0m \u001b[1m0s\u001b[0m 6ms/step - accuracy: 0.8385 - loss: 0.3760 - val_accuracy: 0.7844 - val_loss: 0.4772\n",
            "Epoch 12/50\n",
            "\u001b[1m28/28\u001b[0m \u001b[32m━━━━━━━━━━━━━━━━━━━━\u001b[0m\u001b[37m\u001b[0m \u001b[1m0s\u001b[0m 7ms/step - accuracy: 0.8312 - loss: 0.3884 - val_accuracy: 0.8165 - val_loss: 0.4150\n",
            "Epoch 13/50\n",
            "\u001b[1m28/28\u001b[0m \u001b[32m━━━━━━━━━━━━━━━━━━━━\u001b[0m\u001b[37m\u001b[0m \u001b[1m0s\u001b[0m 6ms/step - accuracy: 0.8545 - loss: 0.3432 - val_accuracy: 0.8073 - val_loss: 0.4359\n",
            "Epoch 14/50\n",
            "\u001b[1m28/28\u001b[0m \u001b[32m━━━━━━━━━━━━━━━━━━━━\u001b[0m\u001b[37m\u001b[0m \u001b[1m0s\u001b[0m 7ms/step - accuracy: 0.8352 - loss: 0.3837 - val_accuracy: 0.7982 - val_loss: 0.4456\n",
            "Epoch 15/50\n",
            "\u001b[1m28/28\u001b[0m \u001b[32m━━━━━━━━━━━━━━━━━━━━\u001b[0m\u001b[37m\u001b[0m \u001b[1m0s\u001b[0m 7ms/step - accuracy: 0.8614 - loss: 0.3542 - val_accuracy: 0.8119 - val_loss: 0.4181\n",
            "Epoch 16/50\n",
            "\u001b[1m28/28\u001b[0m \u001b[32m━━━━━━━━━━━━━━━━━━━━\u001b[0m\u001b[37m\u001b[0m \u001b[1m0s\u001b[0m 7ms/step - accuracy: 0.8752 - loss: 0.3170 - val_accuracy: 0.8119 - val_loss: 0.4370\n",
            "Epoch 17/50\n",
            "\u001b[1m28/28\u001b[0m \u001b[32m━━━━━━━━━━━━━━━━━━━━\u001b[0m\u001b[37m\u001b[0m \u001b[1m0s\u001b[0m 7ms/step - accuracy: 0.8558 - loss: 0.3634 - val_accuracy: 0.7936 - val_loss: 0.4322\n",
            "Epoch 18/50\n",
            "\u001b[1m28/28\u001b[0m \u001b[32m━━━━━━━━━━━━━━━━━━━━\u001b[0m\u001b[37m\u001b[0m \u001b[1m0s\u001b[0m 7ms/step - accuracy: 0.8373 - loss: 0.3559 - val_accuracy: 0.8303 - val_loss: 0.4285\n",
            "Epoch 19/50\n",
            "\u001b[1m28/28\u001b[0m \u001b[32m━━━━━━━━━━━━━━━━━━━━\u001b[0m\u001b[37m\u001b[0m \u001b[1m0s\u001b[0m 9ms/step - accuracy: 0.8459 - loss: 0.3703 - val_accuracy: 0.8119 - val_loss: 0.4375\n",
            "Epoch 20/50\n",
            "\u001b[1m28/28\u001b[0m \u001b[32m━━━━━━━━━━━━━━━━━━━━\u001b[0m\u001b[37m\u001b[0m \u001b[1m0s\u001b[0m 7ms/step - accuracy: 0.8887 - loss: 0.2997 - val_accuracy: 0.8394 - val_loss: 0.4247\n",
            "Epoch 21/50\n",
            "\u001b[1m28/28\u001b[0m \u001b[32m━━━━━━━━━━━━━━━━━━━━\u001b[0m\u001b[37m\u001b[0m \u001b[1m0s\u001b[0m 7ms/step - accuracy: 0.8640 - loss: 0.3701 - val_accuracy: 0.8073 - val_loss: 0.4306\n",
            "Epoch 22/50\n",
            "\u001b[1m28/28\u001b[0m \u001b[32m━━━━━━━━━━━━━━━━━━━━\u001b[0m\u001b[37m\u001b[0m \u001b[1m0s\u001b[0m 8ms/step - accuracy: 0.8746 - loss: 0.3110 - val_accuracy: 0.8257 - val_loss: 0.4100\n",
            "Epoch 23/50\n",
            "\u001b[1m28/28\u001b[0m \u001b[32m━━━━━━━━━━━━━━━━━━━━\u001b[0m\u001b[37m\u001b[0m \u001b[1m0s\u001b[0m 7ms/step - accuracy: 0.9001 - loss: 0.2830 - val_accuracy: 0.8119 - val_loss: 0.4102\n",
            "Epoch 24/50\n",
            "\u001b[1m28/28\u001b[0m \u001b[32m━━━━━━━━━━━━━━━━━━━━\u001b[0m\u001b[37m\u001b[0m \u001b[1m0s\u001b[0m 7ms/step - accuracy: 0.8753 - loss: 0.3146 - val_accuracy: 0.7982 - val_loss: 0.4575\n",
            "Epoch 25/50\n",
            "\u001b[1m28/28\u001b[0m \u001b[32m━━━━━━━━━━━━━━━━━━━━\u001b[0m\u001b[37m\u001b[0m \u001b[1m0s\u001b[0m 8ms/step - accuracy: 0.8892 - loss: 0.2851 - val_accuracy: 0.8073 - val_loss: 0.4420\n",
            "Epoch 26/50\n",
            "\u001b[1m28/28\u001b[0m \u001b[32m━━━━━━━━━━━━━━━━━━━━\u001b[0m\u001b[37m\u001b[0m \u001b[1m0s\u001b[0m 7ms/step - accuracy: 0.8847 - loss: 0.3115 - val_accuracy: 0.8119 - val_loss: 0.4343\n",
            "Epoch 27/50\n",
            "\u001b[1m28/28\u001b[0m \u001b[32m━━━━━━━━━━━━━━━━━━━━\u001b[0m\u001b[37m\u001b[0m \u001b[1m0s\u001b[0m 7ms/step - accuracy: 0.8607 - loss: 0.3144 - val_accuracy: 0.8073 - val_loss: 0.4435\n",
            "Epoch 28/50\n",
            "\u001b[1m28/28\u001b[0m \u001b[32m━━━━━━━━━━━━━━━━━━━━\u001b[0m\u001b[37m\u001b[0m \u001b[1m0s\u001b[0m 7ms/step - accuracy: 0.8667 - loss: 0.3415 - val_accuracy: 0.8119 - val_loss: 0.4747\n",
            "Epoch 29/50\n",
            "\u001b[1m28/28\u001b[0m \u001b[32m━━━━━━━━━━━━━━━━━━━━\u001b[0m\u001b[37m\u001b[0m \u001b[1m0s\u001b[0m 7ms/step - accuracy: 0.8559 - loss: 0.3388 - val_accuracy: 0.8073 - val_loss: 0.5224\n",
            "Epoch 30/50\n",
            "\u001b[1m28/28\u001b[0m \u001b[32m━━━━━━━━━━━━━━━━━━━━\u001b[0m\u001b[37m\u001b[0m \u001b[1m0s\u001b[0m 6ms/step - accuracy: 0.8571 - loss: 0.3364 - val_accuracy: 0.8257 - val_loss: 0.4116\n",
            "Epoch 31/50\n",
            "\u001b[1m28/28\u001b[0m \u001b[32m━━━━━━━━━━━━━━━━━━━━\u001b[0m\u001b[37m\u001b[0m \u001b[1m0s\u001b[0m 6ms/step - accuracy: 0.8636 - loss: 0.3204 - val_accuracy: 0.8028 - val_loss: 0.5002\n",
            "Epoch 32/50\n",
            "\u001b[1m28/28\u001b[0m \u001b[32m━━━━━━━━━━━━━━━━━━━━\u001b[0m\u001b[37m\u001b[0m \u001b[1m0s\u001b[0m 6ms/step - accuracy: 0.8692 - loss: 0.3407 - val_accuracy: 0.8165 - val_loss: 0.4444\n",
            "Epoch 33/50\n",
            "\u001b[1m28/28\u001b[0m \u001b[32m━━━━━━━━━━━━━━━━━━━━\u001b[0m\u001b[37m\u001b[0m \u001b[1m0s\u001b[0m 7ms/step - accuracy: 0.8758 - loss: 0.3360 - val_accuracy: 0.8119 - val_loss: 0.4329\n",
            "Epoch 34/50\n",
            "\u001b[1m28/28\u001b[0m \u001b[32m━━━━━━━━━━━━━━━━━━━━\u001b[0m\u001b[37m\u001b[0m \u001b[1m0s\u001b[0m 7ms/step - accuracy: 0.8631 - loss: 0.3538 - val_accuracy: 0.8073 - val_loss: 0.4227\n",
            "Epoch 35/50\n",
            "\u001b[1m28/28\u001b[0m \u001b[32m━━━━━━━━━━━━━━━━━━━━\u001b[0m\u001b[37m\u001b[0m \u001b[1m0s\u001b[0m 8ms/step - accuracy: 0.8703 - loss: 0.2940 - val_accuracy: 0.8119 - val_loss: 0.4271\n",
            "Epoch 36/50\n",
            "\u001b[1m28/28\u001b[0m \u001b[32m━━━━━━━━━━━━━━━━━━━━\u001b[0m\u001b[37m\u001b[0m \u001b[1m0s\u001b[0m 7ms/step - accuracy: 0.8731 - loss: 0.2880 - val_accuracy: 0.8211 - val_loss: 0.4448\n",
            "Epoch 37/50\n",
            "\u001b[1m28/28\u001b[0m \u001b[32m━━━━━━━━━━━━━━━━━━━━\u001b[0m\u001b[37m\u001b[0m \u001b[1m0s\u001b[0m 7ms/step - accuracy: 0.9043 - loss: 0.2404 - val_accuracy: 0.8119 - val_loss: 0.4103\n",
            "Epoch 38/50\n",
            "\u001b[1m28/28\u001b[0m \u001b[32m━━━━━━━━━━━━━━━━━━━━\u001b[0m\u001b[37m\u001b[0m \u001b[1m0s\u001b[0m 8ms/step - accuracy: 0.9032 - loss: 0.2468 - val_accuracy: 0.8165 - val_loss: 0.4603\n",
            "Epoch 39/50\n",
            "\u001b[1m28/28\u001b[0m \u001b[32m━━━━━━━━━━━━━━━━━━━━\u001b[0m\u001b[37m\u001b[0m \u001b[1m0s\u001b[0m 7ms/step - accuracy: 0.9013 - loss: 0.2472 - val_accuracy: 0.8303 - val_loss: 0.4217\n",
            "Epoch 40/50\n",
            "\u001b[1m28/28\u001b[0m \u001b[32m━━━━━━━━━━━━━━━━━━━━\u001b[0m\u001b[37m\u001b[0m \u001b[1m0s\u001b[0m 7ms/step - accuracy: 0.8863 - loss: 0.2649 - val_accuracy: 0.8073 - val_loss: 0.4658\n",
            "Epoch 41/50\n",
            "\u001b[1m28/28\u001b[0m \u001b[32m━━━━━━━━━━━━━━━━━━━━\u001b[0m\u001b[37m\u001b[0m \u001b[1m0s\u001b[0m 7ms/step - accuracy: 0.8752 - loss: 0.3292 - val_accuracy: 0.8303 - val_loss: 0.4665\n",
            "Epoch 42/50\n",
            "\u001b[1m28/28\u001b[0m \u001b[32m━━━━━━━━━━━━━━━━━━━━\u001b[0m\u001b[37m\u001b[0m \u001b[1m0s\u001b[0m 7ms/step - accuracy: 0.8870 - loss: 0.3065 - val_accuracy: 0.8211 - val_loss: 0.4373\n"
          ]
        },
        {
          "data": {
            "text/plain": [
              "<keras.src.callbacks.history.History at 0x22f01299580>"
            ]
          },
          "execution_count": 336,
          "metadata": {},
          "output_type": "execute_result"
        }
      ],
      "source": [
        "model.fit(X_train, y_train,\n",
        "        epochs=50,\n",
        "        batch_size=32,\n",
        "        validation_data=(X_test, y_test),\n",
        "        callbacks=[early_stopping]\n",
        "        )"
      ]
    },
    {
      "cell_type": "markdown",
      "source": [
        "###NN With sampling"
      ],
      "metadata": {
        "id": "hwF2zsHoS0Vv"
      },
      "id": "hwF2zsHoS0Vv"
    },
    {
      "cell_type": "code",
      "execution_count": null,
      "id": "323fc631-d5b5-469a-8ff5-6f154ed7adf0",
      "metadata": {
        "id": "323fc631-d5b5-469a-8ff5-6f154ed7adf0"
      },
      "outputs": [],
      "source": [
        "from sklearn.model_selection import train_test_split\n",
        "X_train, X_test, y_train, y_test = train_test_split(X_resampled, y_resampled, test_size=0.2, random_state=42)"
      ]
    },
    {
      "cell_type": "code",
      "execution_count": null,
      "id": "027e1140-efb0-4637-b6d0-1c573ded38ce",
      "metadata": {
        "id": "027e1140-efb0-4637-b6d0-1c573ded38ce",
        "outputId": "e0227c23-7940-4cfb-bafa-02f4316c1fd3"
      },
      "outputs": [
        {
          "name": "stdout",
          "output_type": "stream",
          "text": [
            "Epoch 1/50\n",
            "\u001b[1m32/32\u001b[0m \u001b[32m━━━━━━━━━━━━━━━━━━━━\u001b[0m\u001b[37m\u001b[0m \u001b[1m0s\u001b[0m 8ms/step - accuracy: 0.8870 - loss: 0.2866 - val_accuracy: 0.8386 - val_loss: 0.3756\n",
            "Epoch 2/50\n",
            "\u001b[1m32/32\u001b[0m \u001b[32m━━━━━━━━━━━━━━━━━━━━\u001b[0m\u001b[37m\u001b[0m \u001b[1m0s\u001b[0m 6ms/step - accuracy: 0.8756 - loss: 0.3051 - val_accuracy: 0.8858 - val_loss: 0.3147\n",
            "Epoch 3/50\n",
            "\u001b[1m32/32\u001b[0m \u001b[32m━━━━━━━━━━━━━━━━━━━━\u001b[0m\u001b[37m\u001b[0m \u001b[1m0s\u001b[0m 6ms/step - accuracy: 0.8778 - loss: 0.2903 - val_accuracy: 0.8346 - val_loss: 0.4260\n",
            "Epoch 4/50\n",
            "\u001b[1m32/32\u001b[0m \u001b[32m━━━━━━━━━━━━━━━━━━━━\u001b[0m\u001b[37m\u001b[0m \u001b[1m0s\u001b[0m 6ms/step - accuracy: 0.8684 - loss: 0.3153 - val_accuracy: 0.8858 - val_loss: 0.3024\n",
            "Epoch 5/50\n",
            "\u001b[1m32/32\u001b[0m \u001b[32m━━━━━━━━━━━━━━━━━━━━\u001b[0m\u001b[37m\u001b[0m \u001b[1m0s\u001b[0m 6ms/step - accuracy: 0.8839 - loss: 0.2865 - val_accuracy: 0.8661 - val_loss: 0.3419\n",
            "Epoch 6/50\n",
            "\u001b[1m32/32\u001b[0m \u001b[32m━━━━━━━━━━━━━━━━━━━━\u001b[0m\u001b[37m\u001b[0m \u001b[1m0s\u001b[0m 7ms/step - accuracy: 0.8813 - loss: 0.2954 - val_accuracy: 0.8780 - val_loss: 0.3070\n",
            "Epoch 7/50\n",
            "\u001b[1m32/32\u001b[0m \u001b[32m━━━━━━━━━━━━━━━━━━━━\u001b[0m\u001b[37m\u001b[0m \u001b[1m0s\u001b[0m 7ms/step - accuracy: 0.8951 - loss: 0.2520 - val_accuracy: 0.8898 - val_loss: 0.3131\n",
            "Epoch 8/50\n",
            "\u001b[1m32/32\u001b[0m \u001b[32m━━━━━━━━━━━━━━━━━━━━\u001b[0m\u001b[37m\u001b[0m \u001b[1m0s\u001b[0m 6ms/step - accuracy: 0.8789 - loss: 0.2813 - val_accuracy: 0.8740 - val_loss: 0.3013\n",
            "Epoch 9/50\n",
            "\u001b[1m32/32\u001b[0m \u001b[32m━━━━━━━━━━━━━━━━━━━━\u001b[0m\u001b[37m\u001b[0m \u001b[1m0s\u001b[0m 7ms/step - accuracy: 0.8826 - loss: 0.2870 - val_accuracy: 0.8780 - val_loss: 0.3153\n",
            "Epoch 10/50\n",
            "\u001b[1m32/32\u001b[0m \u001b[32m━━━━━━━━━━━━━━━━━━━━\u001b[0m\u001b[37m\u001b[0m \u001b[1m0s\u001b[0m 6ms/step - accuracy: 0.8877 - loss: 0.2588 - val_accuracy: 0.8661 - val_loss: 0.3200\n",
            "Epoch 11/50\n",
            "\u001b[1m32/32\u001b[0m \u001b[32m━━━━━━━━━━━━━━━━━━━━\u001b[0m\u001b[37m\u001b[0m \u001b[1m0s\u001b[0m 6ms/step - accuracy: 0.9020 - loss: 0.2679 - val_accuracy: 0.8740 - val_loss: 0.2949\n",
            "Epoch 12/50\n",
            "\u001b[1m32/32\u001b[0m \u001b[32m━━━━━━━━━━━━━━━━━━━━\u001b[0m\u001b[37m\u001b[0m \u001b[1m0s\u001b[0m 6ms/step - accuracy: 0.9060 - loss: 0.2376 - val_accuracy: 0.8622 - val_loss: 0.3218\n",
            "Epoch 13/50\n",
            "\u001b[1m32/32\u001b[0m \u001b[32m━━━━━━━━━━━━━━━━━━━━\u001b[0m\u001b[37m\u001b[0m \u001b[1m0s\u001b[0m 6ms/step - accuracy: 0.8873 - loss: 0.2607 - val_accuracy: 0.8819 - val_loss: 0.3135\n",
            "Epoch 14/50\n",
            "\u001b[1m32/32\u001b[0m \u001b[32m━━━━━━━━━━━━━━━━━━━━\u001b[0m\u001b[37m\u001b[0m \u001b[1m0s\u001b[0m 6ms/step - accuracy: 0.9076 - loss: 0.2391 - val_accuracy: 0.8937 - val_loss: 0.2935\n",
            "Epoch 15/50\n",
            "\u001b[1m32/32\u001b[0m \u001b[32m━━━━━━━━━━━━━━━━━━━━\u001b[0m\u001b[37m\u001b[0m \u001b[1m0s\u001b[0m 7ms/step - accuracy: 0.9080 - loss: 0.2321 - val_accuracy: 0.8937 - val_loss: 0.2938\n",
            "Epoch 16/50\n",
            "\u001b[1m32/32\u001b[0m \u001b[32m━━━━━━━━━━━━━━━━━━━━\u001b[0m\u001b[37m\u001b[0m \u001b[1m0s\u001b[0m 6ms/step - accuracy: 0.9011 - loss: 0.2511 - val_accuracy: 0.8937 - val_loss: 0.2964\n",
            "Epoch 17/50\n",
            "\u001b[1m32/32\u001b[0m \u001b[32m━━━━━━━━━━━━━━━━━━━━\u001b[0m\u001b[37m\u001b[0m \u001b[1m0s\u001b[0m 5ms/step - accuracy: 0.8936 - loss: 0.2518 - val_accuracy: 0.8898 - val_loss: 0.3066\n",
            "Epoch 18/50\n",
            "\u001b[1m32/32\u001b[0m \u001b[32m━━━━━━━━━━━━━━━━━━━━\u001b[0m\u001b[37m\u001b[0m \u001b[1m0s\u001b[0m 6ms/step - accuracy: 0.9040 - loss: 0.2452 - val_accuracy: 0.8937 - val_loss: 0.3278\n",
            "Epoch 19/50\n",
            "\u001b[1m32/32\u001b[0m \u001b[32m━━━━━━━━━━━━━━━━━━━━\u001b[0m\u001b[37m\u001b[0m \u001b[1m0s\u001b[0m 6ms/step - accuracy: 0.8985 - loss: 0.2232 - val_accuracy: 0.8386 - val_loss: 0.3608\n",
            "Epoch 20/50\n",
            "\u001b[1m32/32\u001b[0m \u001b[32m━━━━━━━━━━━━━━━━━━━━\u001b[0m\u001b[37m\u001b[0m \u001b[1m0s\u001b[0m 6ms/step - accuracy: 0.9063 - loss: 0.2512 - val_accuracy: 0.8898 - val_loss: 0.2898\n",
            "Epoch 21/50\n",
            "\u001b[1m32/32\u001b[0m \u001b[32m━━━━━━━━━━━━━━━━━━━━\u001b[0m\u001b[37m\u001b[0m \u001b[1m0s\u001b[0m 6ms/step - accuracy: 0.9041 - loss: 0.2600 - val_accuracy: 0.8780 - val_loss: 0.3091\n",
            "Epoch 22/50\n",
            "\u001b[1m32/32\u001b[0m \u001b[32m━━━━━━━━━━━━━━━━━━━━\u001b[0m\u001b[37m\u001b[0m \u001b[1m0s\u001b[0m 5ms/step - accuracy: 0.8862 - loss: 0.2762 - val_accuracy: 0.8819 - val_loss: 0.3395\n",
            "Epoch 23/50\n",
            "\u001b[1m32/32\u001b[0m \u001b[32m━━━━━━━━━━━━━━━━━━━━\u001b[0m\u001b[37m\u001b[0m \u001b[1m0s\u001b[0m 6ms/step - accuracy: 0.9066 - loss: 0.2370 - val_accuracy: 0.8268 - val_loss: 0.4134\n",
            "Epoch 24/50\n",
            "\u001b[1m32/32\u001b[0m \u001b[32m━━━━━━━━━━━━━━━━━━━━\u001b[0m\u001b[37m\u001b[0m \u001b[1m0s\u001b[0m 5ms/step - accuracy: 0.8702 - loss: 0.2993 - val_accuracy: 0.8858 - val_loss: 0.3030\n",
            "Epoch 25/50\n",
            "\u001b[1m32/32\u001b[0m \u001b[32m━━━━━━━━━━━━━━━━━━━━\u001b[0m\u001b[37m\u001b[0m \u001b[1m0s\u001b[0m 6ms/step - accuracy: 0.9153 - loss: 0.2352 - val_accuracy: 0.8701 - val_loss: 0.3346\n",
            "Epoch 26/50\n",
            "\u001b[1m32/32\u001b[0m \u001b[32m━━━━━━━━━━━━━━━━━━━━\u001b[0m\u001b[37m\u001b[0m \u001b[1m0s\u001b[0m 5ms/step - accuracy: 0.9046 - loss: 0.2284 - val_accuracy: 0.8425 - val_loss: 0.3374\n",
            "Epoch 27/50\n",
            "\u001b[1m32/32\u001b[0m \u001b[32m━━━━━━━━━━━━━━━━━━━━\u001b[0m\u001b[37m\u001b[0m \u001b[1m0s\u001b[0m 6ms/step - accuracy: 0.9097 - loss: 0.2265 - val_accuracy: 0.9016 - val_loss: 0.2796\n",
            "Epoch 28/50\n",
            "\u001b[1m32/32\u001b[0m \u001b[32m━━━━━━━━━━━━━━━━━━━━\u001b[0m\u001b[37m\u001b[0m \u001b[1m0s\u001b[0m 6ms/step - accuracy: 0.9148 - loss: 0.1936 - val_accuracy: 0.9016 - val_loss: 0.2834\n",
            "Epoch 29/50\n",
            "\u001b[1m32/32\u001b[0m \u001b[32m━━━━━━━━━━━━━━━━━━━━\u001b[0m\u001b[37m\u001b[0m \u001b[1m0s\u001b[0m 6ms/step - accuracy: 0.9160 - loss: 0.2152 - val_accuracy: 0.9055 - val_loss: 0.3038\n",
            "Epoch 30/50\n",
            "\u001b[1m32/32\u001b[0m \u001b[32m━━━━━━━━━━━━━━━━━━━━\u001b[0m\u001b[37m\u001b[0m \u001b[1m0s\u001b[0m 5ms/step - accuracy: 0.9154 - loss: 0.2074 - val_accuracy: 0.8858 - val_loss: 0.3019\n",
            "Epoch 31/50\n",
            "\u001b[1m32/32\u001b[0m \u001b[32m━━━━━━━━━━━━━━━━━━━━\u001b[0m\u001b[37m\u001b[0m \u001b[1m0s\u001b[0m 7ms/step - accuracy: 0.8996 - loss: 0.2535 - val_accuracy: 0.8937 - val_loss: 0.2921\n",
            "Epoch 32/50\n",
            "\u001b[1m32/32\u001b[0m \u001b[32m━━━━━━━━━━━━━━━━━━━━\u001b[0m\u001b[37m\u001b[0m \u001b[1m0s\u001b[0m 5ms/step - accuracy: 0.9168 - loss: 0.2118 - val_accuracy: 0.8819 - val_loss: 0.3338\n",
            "Epoch 33/50\n",
            "\u001b[1m32/32\u001b[0m \u001b[32m━━━━━━━━━━━━━━━━━━━━\u001b[0m\u001b[37m\u001b[0m \u001b[1m0s\u001b[0m 5ms/step - accuracy: 0.9310 - loss: 0.2016 - val_accuracy: 0.8858 - val_loss: 0.2995\n",
            "Epoch 34/50\n",
            "\u001b[1m32/32\u001b[0m \u001b[32m━━━━━━━━━━━━━━━━━━━━\u001b[0m\u001b[37m\u001b[0m \u001b[1m0s\u001b[0m 6ms/step - accuracy: 0.9183 - loss: 0.2035 - val_accuracy: 0.9055 - val_loss: 0.3009\n",
            "Epoch 35/50\n",
            "\u001b[1m32/32\u001b[0m \u001b[32m━━━━━━━━━━━━━━━━━━━━\u001b[0m\u001b[37m\u001b[0m \u001b[1m0s\u001b[0m 5ms/step - accuracy: 0.9374 - loss: 0.1716 - val_accuracy: 0.8898 - val_loss: 0.2899\n",
            "Epoch 36/50\n",
            "\u001b[1m32/32\u001b[0m \u001b[32m━━━━━━━━━━━━━━━━━━━━\u001b[0m\u001b[37m\u001b[0m \u001b[1m0s\u001b[0m 5ms/step - accuracy: 0.9203 - loss: 0.1762 - val_accuracy: 0.9094 - val_loss: 0.2885\n",
            "Epoch 37/50\n",
            "\u001b[1m32/32\u001b[0m \u001b[32m━━━━━━━━━━━━━━━━━━━━\u001b[0m\u001b[37m\u001b[0m \u001b[1m0s\u001b[0m 5ms/step - accuracy: 0.9438 - loss: 0.1657 - val_accuracy: 0.9055 - val_loss: 0.2911\n",
            "Epoch 38/50\n",
            "\u001b[1m32/32\u001b[0m \u001b[32m━━━━━━━━━━━━━━━━━━━━\u001b[0m\u001b[37m\u001b[0m \u001b[1m0s\u001b[0m 5ms/step - accuracy: 0.9370 - loss: 0.1803 - val_accuracy: 0.9055 - val_loss: 0.2969\n",
            "Epoch 39/50\n",
            "\u001b[1m32/32\u001b[0m \u001b[32m━━━━━━━━━━━━━━━━━━━━\u001b[0m\u001b[37m\u001b[0m \u001b[1m0s\u001b[0m 6ms/step - accuracy: 0.9457 - loss: 0.1506 - val_accuracy: 0.9016 - val_loss: 0.2913\n",
            "Epoch 40/50\n",
            "\u001b[1m32/32\u001b[0m \u001b[32m━━━━━━━━━━━━━━━━━━━━\u001b[0m\u001b[37m\u001b[0m \u001b[1m0s\u001b[0m 5ms/step - accuracy: 0.9490 - loss: 0.1545 - val_accuracy: 0.9094 - val_loss: 0.2826\n",
            "Epoch 41/50\n",
            "\u001b[1m32/32\u001b[0m \u001b[32m━━━━━━━━━━━━━━━━━━━━\u001b[0m\u001b[37m\u001b[0m \u001b[1m0s\u001b[0m 5ms/step - accuracy: 0.9457 - loss: 0.1505 - val_accuracy: 0.9094 - val_loss: 0.3030\n",
            "Epoch 42/50\n",
            "\u001b[1m32/32\u001b[0m \u001b[32m━━━━━━━━━━━━━━━━━━━━\u001b[0m\u001b[37m\u001b[0m \u001b[1m0s\u001b[0m 5ms/step - accuracy: 0.8906 - loss: 0.2419 - val_accuracy: 0.8740 - val_loss: 0.3399\n",
            "Epoch 43/50\n",
            "\u001b[1m32/32\u001b[0m \u001b[32m━━━━━━━━━━━━━━━━━━━━\u001b[0m\u001b[37m\u001b[0m \u001b[1m0s\u001b[0m 5ms/step - accuracy: 0.9263 - loss: 0.1737 - val_accuracy: 0.9134 - val_loss: 0.2844\n",
            "Epoch 44/50\n",
            "\u001b[1m32/32\u001b[0m \u001b[32m━━━━━━━━━━━━━━━━━━━━\u001b[0m\u001b[37m\u001b[0m \u001b[1m0s\u001b[0m 5ms/step - accuracy: 0.9321 - loss: 0.1689 - val_accuracy: 0.9134 - val_loss: 0.2793\n",
            "Epoch 45/50\n",
            "\u001b[1m32/32\u001b[0m \u001b[32m━━━━━━━━━━━━━━━━━━━━\u001b[0m\u001b[37m\u001b[0m \u001b[1m0s\u001b[0m 5ms/step - accuracy: 0.9321 - loss: 0.1571 - val_accuracy: 0.8858 - val_loss: 0.3072\n",
            "Epoch 46/50\n",
            "\u001b[1m32/32\u001b[0m \u001b[32m━━━━━━━━━━━━━━━━━━━━\u001b[0m\u001b[37m\u001b[0m \u001b[1m0s\u001b[0m 6ms/step - accuracy: 0.9261 - loss: 0.1814 - val_accuracy: 0.8976 - val_loss: 0.3399\n",
            "Epoch 47/50\n",
            "\u001b[1m32/32\u001b[0m \u001b[32m━━━━━━━━━━━━━━━━━━━━\u001b[0m\u001b[37m\u001b[0m \u001b[1m0s\u001b[0m 5ms/step - accuracy: 0.9433 - loss: 0.1677 - val_accuracy: 0.9134 - val_loss: 0.2986\n"
          ]
        },
        {
          "data": {
            "text/plain": [
              "<keras.src.callbacks.history.History at 0x22f49fbb500>"
            ]
          },
          "execution_count": 338,
          "metadata": {},
          "output_type": "execute_result"
        }
      ],
      "source": [
        "model.fit(X_train, y_train,\n",
        "        epochs=50,\n",
        "        batch_size=32,\n",
        "        validation_data=(X_test, y_test),\n",
        "        callbacks=[early_stopping]\n",
        "        )"
      ]
    },
    {
      "cell_type": "code",
      "execution_count": null,
      "id": "a06c377f-d60a-4a46-99f8-9cc5027bc57e",
      "metadata": {
        "id": "a06c377f-d60a-4a46-99f8-9cc5027bc57e"
      },
      "outputs": [],
      "source": [
        "from sklearn.model_selection import train_test_split\n",
        "X_train, X_test, y_train, y_test = train_test_split(X_resampled_scaled, y_resampled, test_size=0.2, random_state=42)"
      ]
    },
    {
      "cell_type": "code",
      "execution_count": null,
      "id": "81bd6a38",
      "metadata": {
        "id": "81bd6a38",
        "outputId": "9643a142-18b0-4fb1-8ba3-6a7a1a38687c"
      },
      "outputs": [
        {
          "name": "stderr",
          "output_type": "stream",
          "text": [
            "c:\\Users\\And\\anaconda3\\Lib\\site-packages\\keras\\src\\layers\\core\\dense.py:87: UserWarning: Do not pass an `input_shape`/`input_dim` argument to a layer. When using Sequential models, prefer using an `Input(shape)` object as the first layer in the model instead.\n",
            "  super().__init__(activity_regularizer=activity_regularizer, **kwargs)\n"
          ]
        }
      ],
      "source": [
        "from tensorflow import keras\n",
        "from tensorflow.keras.models import Sequential\n",
        "from tensorflow.keras.layers import Dense, Dropout ,BatchNormalization\n",
        "from tensorflow.keras import callbacks\n",
        "model2 = Sequential(\n",
        "    [\n",
        "        Dense(256, activation='relu', input_shape=(X_resampled.shape[1],)),\n",
        "        Dropout(0.7),\n",
        "        BatchNormalization(),\n",
        "        Dense(128, activation='relu'),\n",
        "        BatchNormalization(),\n",
        "        Dense(64, activation='relu'),\n",
        "        Dense(64, activation='relu'),\n",
        "        Dense(16, activation='relu'),\n",
        "        Dense(8, activation='relu'),\n",
        "        Dense(3, activation='softmax')  # Assuming 3 classes\n",
        "    ]\n",
        ")\n",
        "model2.compile(optimizer='adam', loss='sparse_categorical_crossentropy', metrics=['accuracy'])\n",
        "early_stopping = callbacks.EarlyStopping(\n",
        "    min_delta=0.001,\n",
        "    patience=20,\n",
        "    restore_best_weights=True\n",
        "    )"
      ]
    },
    {
      "cell_type": "code",
      "execution_count": null,
      "id": "622f4347-e435-4163-b8b4-93891d3db36f",
      "metadata": {
        "id": "622f4347-e435-4163-b8b4-93891d3db36f",
        "outputId": "fe68a31c-75f2-4991-b857-811eee686c66"
      },
      "outputs": [
        {
          "name": "stdout",
          "output_type": "stream",
          "text": [
            "Epoch 1/50\n",
            "\u001b[1m32/32\u001b[0m \u001b[32m━━━━━━━━━━━━━━━━━━━━\u001b[0m\u001b[37m\u001b[0m \u001b[1m5s\u001b[0m 18ms/step - accuracy: 0.4815 - loss: 1.0303 - val_accuracy: 0.7244 - val_loss: 0.8892\n",
            "Epoch 2/50\n",
            "\u001b[1m32/32\u001b[0m \u001b[32m━━━━━━━━━━━━━━━━━━━━\u001b[0m\u001b[37m\u001b[0m \u001b[1m0s\u001b[0m 6ms/step - accuracy: 0.7187 - loss: 0.7184 - val_accuracy: 0.7402 - val_loss: 0.6980\n",
            "Epoch 3/50\n",
            "\u001b[1m32/32\u001b[0m \u001b[32m━━━━━━━━━━━━━━━━━━━━\u001b[0m\u001b[37m\u001b[0m \u001b[1m0s\u001b[0m 6ms/step - accuracy: 0.7361 - loss: 0.5876 - val_accuracy: 0.8386 - val_loss: 0.5992\n",
            "Epoch 4/50\n",
            "\u001b[1m32/32\u001b[0m \u001b[32m━━━━━━━━━━━━━━━━━━━━\u001b[0m\u001b[37m\u001b[0m \u001b[1m0s\u001b[0m 6ms/step - accuracy: 0.7887 - loss: 0.4894 - val_accuracy: 0.8071 - val_loss: 0.4688\n",
            "Epoch 5/50\n",
            "\u001b[1m32/32\u001b[0m \u001b[32m━━━━━━━━━━━━━━━━━━━━\u001b[0m\u001b[37m\u001b[0m \u001b[1m0s\u001b[0m 6ms/step - accuracy: 0.8214 - loss: 0.4501 - val_accuracy: 0.8268 - val_loss: 0.4188\n",
            "Epoch 6/50\n",
            "\u001b[1m32/32\u001b[0m \u001b[32m━━━━━━━━━━━━━━━━━━━━\u001b[0m\u001b[37m\u001b[0m \u001b[1m0s\u001b[0m 6ms/step - accuracy: 0.8641 - loss: 0.3503 - val_accuracy: 0.8504 - val_loss: 0.3721\n",
            "Epoch 7/50\n",
            "\u001b[1m32/32\u001b[0m \u001b[32m━━━━━━━━━━━━━━━━━━━━\u001b[0m\u001b[37m\u001b[0m \u001b[1m0s\u001b[0m 6ms/step - accuracy: 0.8391 - loss: 0.4057 - val_accuracy: 0.8386 - val_loss: 0.3866\n",
            "Epoch 8/50\n",
            "\u001b[1m32/32\u001b[0m \u001b[32m━━━━━━━━━━━━━━━━━━━━\u001b[0m\u001b[37m\u001b[0m \u001b[1m0s\u001b[0m 7ms/step - accuracy: 0.8457 - loss: 0.3983 - val_accuracy: 0.8661 - val_loss: 0.3542\n",
            "Epoch 9/50\n",
            "\u001b[1m32/32\u001b[0m \u001b[32m━━━━━━━━━━━━━━━━━━━━\u001b[0m\u001b[37m\u001b[0m \u001b[1m0s\u001b[0m 6ms/step - accuracy: 0.8474 - loss: 0.3935 - val_accuracy: 0.8386 - val_loss: 0.3653\n",
            "Epoch 10/50\n",
            "\u001b[1m32/32\u001b[0m \u001b[32m━━━━━━━━━━━━━━━━━━━━\u001b[0m\u001b[37m\u001b[0m \u001b[1m0s\u001b[0m 6ms/step - accuracy: 0.8566 - loss: 0.3406 - val_accuracy: 0.8740 - val_loss: 0.3415\n",
            "Epoch 11/50\n",
            "\u001b[1m32/32\u001b[0m \u001b[32m━━━━━━━━━━━━━━━━━━━━\u001b[0m\u001b[37m\u001b[0m \u001b[1m0s\u001b[0m 6ms/step - accuracy: 0.8619 - loss: 0.3450 - val_accuracy: 0.8740 - val_loss: 0.3427\n",
            "Epoch 12/50\n",
            "\u001b[1m32/32\u001b[0m \u001b[32m━━━━━━━━━━━━━━━━━━━━\u001b[0m\u001b[37m\u001b[0m \u001b[1m0s\u001b[0m 6ms/step - accuracy: 0.8705 - loss: 0.3258 - val_accuracy: 0.8780 - val_loss: 0.3387\n",
            "Epoch 13/50\n",
            "\u001b[1m32/32\u001b[0m \u001b[32m━━━━━━━━━━━━━━━━━━━━\u001b[0m\u001b[37m\u001b[0m \u001b[1m0s\u001b[0m 6ms/step - accuracy: 0.8673 - loss: 0.3221 - val_accuracy: 0.8858 - val_loss: 0.3365\n",
            "Epoch 14/50\n",
            "\u001b[1m32/32\u001b[0m \u001b[32m━━━━━━━━━━━━━━━━━━━━\u001b[0m\u001b[37m\u001b[0m \u001b[1m0s\u001b[0m 6ms/step - accuracy: 0.8649 - loss: 0.3370 - val_accuracy: 0.8780 - val_loss: 0.3377\n",
            "Epoch 15/50\n",
            "\u001b[1m32/32\u001b[0m \u001b[32m━━━━━━━━━━━━━━━━━━━━\u001b[0m\u001b[37m\u001b[0m \u001b[1m0s\u001b[0m 6ms/step - accuracy: 0.8640 - loss: 0.3373 - val_accuracy: 0.8543 - val_loss: 0.3582\n",
            "Epoch 16/50\n",
            "\u001b[1m32/32\u001b[0m \u001b[32m━━━━━━━━━━━━━━━━━━━━\u001b[0m\u001b[37m\u001b[0m \u001b[1m0s\u001b[0m 8ms/step - accuracy: 0.8603 - loss: 0.3381 - val_accuracy: 0.8740 - val_loss: 0.3357\n",
            "Epoch 17/50\n",
            "\u001b[1m32/32\u001b[0m \u001b[32m━━━━━━━━━━━━━━━━━━━━\u001b[0m\u001b[37m\u001b[0m \u001b[1m0s\u001b[0m 7ms/step - accuracy: 0.8791 - loss: 0.2887 - val_accuracy: 0.8701 - val_loss: 0.3367\n",
            "Epoch 18/50\n",
            "\u001b[1m32/32\u001b[0m \u001b[32m━━━━━━━━━━━━━━━━━━━━\u001b[0m\u001b[37m\u001b[0m \u001b[1m0s\u001b[0m 6ms/step - accuracy: 0.9004 - loss: 0.2839 - val_accuracy: 0.8701 - val_loss: 0.3243\n",
            "Epoch 19/50\n",
            "\u001b[1m32/32\u001b[0m \u001b[32m━━━━━━━━━━━━━━━━━━━━\u001b[0m\u001b[37m\u001b[0m \u001b[1m0s\u001b[0m 7ms/step - accuracy: 0.8928 - loss: 0.2780 - val_accuracy: 0.8740 - val_loss: 0.3526\n",
            "Epoch 20/50\n",
            "\u001b[1m32/32\u001b[0m \u001b[32m━━━━━━━━━━━━━━━━━━━━\u001b[0m\u001b[37m\u001b[0m \u001b[1m0s\u001b[0m 6ms/step - accuracy: 0.8739 - loss: 0.3213 - val_accuracy: 0.8583 - val_loss: 0.3545\n",
            "Epoch 21/50\n",
            "\u001b[1m32/32\u001b[0m \u001b[32m━━━━━━━━━━━━━━━━━━━━\u001b[0m\u001b[37m\u001b[0m \u001b[1m0s\u001b[0m 6ms/step - accuracy: 0.8873 - loss: 0.3266 - val_accuracy: 0.8780 - val_loss: 0.3245\n",
            "Epoch 22/50\n",
            "\u001b[1m32/32\u001b[0m \u001b[32m━━━━━━━━━━━━━━━━━━━━\u001b[0m\u001b[37m\u001b[0m \u001b[1m0s\u001b[0m 6ms/step - accuracy: 0.8508 - loss: 0.3233 - val_accuracy: 0.8780 - val_loss: 0.3557\n",
            "Epoch 23/50\n",
            "\u001b[1m32/32\u001b[0m \u001b[32m━━━━━━━━━━━━━━━━━━━━\u001b[0m\u001b[37m\u001b[0m \u001b[1m0s\u001b[0m 6ms/step - accuracy: 0.8990 - loss: 0.2878 - val_accuracy: 0.8740 - val_loss: 0.3626\n",
            "Epoch 24/50\n",
            "\u001b[1m32/32\u001b[0m \u001b[32m━━━━━━━━━━━━━━━━━━━━\u001b[0m\u001b[37m\u001b[0m \u001b[1m0s\u001b[0m 6ms/step - accuracy: 0.8885 - loss: 0.2877 - val_accuracy: 0.8780 - val_loss: 0.3482\n",
            "Epoch 25/50\n",
            "\u001b[1m32/32\u001b[0m \u001b[32m━━━━━━━━━━━━━━━━━━━━\u001b[0m\u001b[37m\u001b[0m \u001b[1m0s\u001b[0m 6ms/step - accuracy: 0.8891 - loss: 0.2612 - val_accuracy: 0.8898 - val_loss: 0.3405\n",
            "Epoch 26/50\n",
            "\u001b[1m32/32\u001b[0m \u001b[32m━━━━━━━━━━━━━━━━━━━━\u001b[0m\u001b[37m\u001b[0m \u001b[1m0s\u001b[0m 6ms/step - accuracy: 0.8793 - loss: 0.3113 - val_accuracy: 0.8858 - val_loss: 0.3276\n",
            "Epoch 27/50\n",
            "\u001b[1m32/32\u001b[0m \u001b[32m━━━━━━━━━━━━━━━━━━━━\u001b[0m\u001b[37m\u001b[0m \u001b[1m0s\u001b[0m 7ms/step - accuracy: 0.8665 - loss: 0.3155 - val_accuracy: 0.8898 - val_loss: 0.3379\n",
            "Epoch 28/50\n",
            "\u001b[1m32/32\u001b[0m \u001b[32m━━━━━━━━━━━━━━━━━━━━\u001b[0m\u001b[37m\u001b[0m \u001b[1m0s\u001b[0m 6ms/step - accuracy: 0.8836 - loss: 0.2658 - val_accuracy: 0.8898 - val_loss: 0.3428\n",
            "Epoch 29/50\n",
            "\u001b[1m32/32\u001b[0m \u001b[32m━━━━━━━━━━━━━━━━━━━━\u001b[0m\u001b[37m\u001b[0m \u001b[1m0s\u001b[0m 6ms/step - accuracy: 0.8699 - loss: 0.3241 - val_accuracy: 0.8858 - val_loss: 0.3653\n",
            "Epoch 30/50\n",
            "\u001b[1m32/32\u001b[0m \u001b[32m━━━━━━━━━━━━━━━━━━━━\u001b[0m\u001b[37m\u001b[0m \u001b[1m0s\u001b[0m 6ms/step - accuracy: 0.8934 - loss: 0.2620 - val_accuracy: 0.8858 - val_loss: 0.3405\n",
            "Epoch 31/50\n",
            "\u001b[1m32/32\u001b[0m \u001b[32m━━━━━━━━━━━━━━━━━━━━\u001b[0m\u001b[37m\u001b[0m \u001b[1m0s\u001b[0m 6ms/step - accuracy: 0.8739 - loss: 0.2939 - val_accuracy: 0.8740 - val_loss: 0.3443\n",
            "Epoch 32/50\n",
            "\u001b[1m32/32\u001b[0m \u001b[32m━━━━━━━━━━━━━━━━━━━━\u001b[0m\u001b[37m\u001b[0m \u001b[1m0s\u001b[0m 6ms/step - accuracy: 0.9055 - loss: 0.2551 - val_accuracy: 0.8858 - val_loss: 0.3468\n",
            "Epoch 33/50\n",
            "\u001b[1m32/32\u001b[0m \u001b[32m━━━━━━━━━━━━━━━━━━━━\u001b[0m\u001b[37m\u001b[0m \u001b[1m0s\u001b[0m 6ms/step - accuracy: 0.8909 - loss: 0.2581 - val_accuracy: 0.8858 - val_loss: 0.3389\n",
            "Epoch 34/50\n",
            "\u001b[1m32/32\u001b[0m \u001b[32m━━━━━━━━━━━━━━━━━━━━\u001b[0m\u001b[37m\u001b[0m \u001b[1m0s\u001b[0m 6ms/step - accuracy: 0.9059 - loss: 0.2486 - val_accuracy: 0.8819 - val_loss: 0.3413\n",
            "Epoch 35/50\n",
            "\u001b[1m32/32\u001b[0m \u001b[32m━━━━━━━━━━━━━━━━━━━━\u001b[0m\u001b[37m\u001b[0m \u001b[1m0s\u001b[0m 6ms/step - accuracy: 0.8944 - loss: 0.2661 - val_accuracy: 0.8701 - val_loss: 0.3536\n",
            "Epoch 36/50\n",
            "\u001b[1m32/32\u001b[0m \u001b[32m━━━━━━━━━━━━━━━━━━━━\u001b[0m\u001b[37m\u001b[0m \u001b[1m0s\u001b[0m 8ms/step - accuracy: 0.9025 - loss: 0.2499 - val_accuracy: 0.8858 - val_loss: 0.3347\n",
            "Epoch 37/50\n",
            "\u001b[1m32/32\u001b[0m \u001b[32m━━━━━━━━━━━━━━━━━━━━\u001b[0m\u001b[37m\u001b[0m \u001b[1m0s\u001b[0m 6ms/step - accuracy: 0.8845 - loss: 0.2792 - val_accuracy: 0.8780 - val_loss: 0.3439\n",
            "Epoch 38/50\n",
            "\u001b[1m32/32\u001b[0m \u001b[32m━━━━━━━━━━━━━━━━━━━━\u001b[0m\u001b[37m\u001b[0m \u001b[1m0s\u001b[0m 6ms/step - accuracy: 0.8923 - loss: 0.2583 - val_accuracy: 0.8937 - val_loss: 0.3300\n"
          ]
        },
        {
          "data": {
            "text/plain": [
              "<keras.src.callbacks.history.History at 0x22f03a5f830>"
            ]
          },
          "execution_count": 341,
          "metadata": {},
          "output_type": "execute_result"
        }
      ],
      "source": [
        "model2.fit(X_train, y_train,\n",
        "        epochs=50,\n",
        "        batch_size=32,\n",
        "        validation_data=(X_test, y_test),\n",
        "        callbacks=[early_stopping]\n",
        "        )"
      ]
    },
    {
      "cell_type": "code",
      "execution_count": null,
      "id": "1e3edd2d-3f94-4e20-99be-9a205936e36a",
      "metadata": {
        "id": "1e3edd2d-3f94-4e20-99be-9a205936e36a"
      },
      "outputs": [],
      "source": [
        "from sklearn.model_selection import train_test_split\n",
        "X_train, X_test, y_train, y_test = train_test_split(X_resampled, y_resampled, test_size=0.2, random_state=42)"
      ]
    },
    {
      "cell_type": "code",
      "execution_count": null,
      "id": "20dd1d04",
      "metadata": {
        "id": "20dd1d04"
      },
      "outputs": [],
      "source": [
        "from tensorflow import keras\n",
        "from tensorflow.keras.models import Sequential\n",
        "from tensorflow.keras.layers import Dense, Dropout ,BatchNormalization\n",
        "from tensorflow.keras import callbacks\n",
        "model2 = Sequential(\n",
        "    [\n",
        "        Dense(256, activation='relu', input_shape=(X_resampled.shape[1],)),\n",
        "        Dropout(0.5),\n",
        "        BatchNormalization(),\n",
        "        Dense(128, activation='relu'),\n",
        "        BatchNormalization(),\n",
        "        Dense(64, activation='relu'),\n",
        "        Dense(64, activation='relu'),\n",
        "        Dense(16, activation='relu'),\n",
        "        Dense(8, activation='relu'),\n",
        "        Dense(3, activation='softmax')  # Assuming 3 classes\n",
        "    ]\n",
        ")\n",
        "model2.compile(optimizer='adam', loss='sparse_categorical_crossentropy', metrics=['accuracy'])\n",
        "early_stopping = callbacks.EarlyStopping(\n",
        "    min_delta=0.001,\n",
        "    patience=20,\n",
        "    restore_best_weights=True\n",
        "    )"
      ]
    },
    {
      "cell_type": "code",
      "execution_count": null,
      "id": "59901704",
      "metadata": {
        "id": "59901704",
        "outputId": "e0f69df4-899b-4d05-87ad-252514f86f3e"
      },
      "outputs": [
        {
          "name": "stdout",
          "output_type": "stream",
          "text": [
            "Epoch 1/50\n",
            "\u001b[1m16/16\u001b[0m \u001b[32m━━━━━━━━━━━━━━━━━━━━\u001b[0m\u001b[37m\u001b[0m \u001b[1m4s\u001b[0m 33ms/step - accuracy: 0.2605 - loss: 1.2271 - val_accuracy: 0.2874 - val_loss: 1.1732\n",
            "Epoch 2/50\n",
            "\u001b[1m16/16\u001b[0m \u001b[32m━━━━━━━━━━━━━━━━━━━━\u001b[0m\u001b[37m\u001b[0m \u001b[1m0s\u001b[0m 10ms/step - accuracy: 0.2494 - loss: 1.1155 - val_accuracy: 0.2874 - val_loss: 1.1050\n",
            "Epoch 3/50\n",
            "\u001b[1m16/16\u001b[0m \u001b[32m━━━━━━━━━━━━━━━━━━━━\u001b[0m\u001b[37m\u001b[0m \u001b[1m0s\u001b[0m 9ms/step - accuracy: 0.3230 - loss: 1.0838 - val_accuracy: 0.3740 - val_loss: 1.0714\n",
            "Epoch 4/50\n",
            "\u001b[1m16/16\u001b[0m \u001b[32m━━━━━━━━━━━━━━━━━━━━\u001b[0m\u001b[37m\u001b[0m \u001b[1m0s\u001b[0m 9ms/step - accuracy: 0.4662 - loss: 1.0539 - val_accuracy: 0.6693 - val_loss: 1.0642\n",
            "Epoch 5/50\n",
            "\u001b[1m16/16\u001b[0m \u001b[32m━━━━━━━━━━━━━━━━━━━━\u001b[0m\u001b[37m\u001b[0m \u001b[1m0s\u001b[0m 10ms/step - accuracy: 0.5790 - loss: 0.9786 - val_accuracy: 0.6102 - val_loss: 1.0620\n",
            "Epoch 6/50\n",
            "\u001b[1m16/16\u001b[0m \u001b[32m━━━━━━━━━━━━━━━━━━━━\u001b[0m\u001b[37m\u001b[0m \u001b[1m0s\u001b[0m 9ms/step - accuracy: 0.6692 - loss: 0.9212 - val_accuracy: 0.6417 - val_loss: 1.0293\n",
            "Epoch 7/50\n",
            "\u001b[1m16/16\u001b[0m \u001b[32m━━━━━━━━━━━━━━━━━━━━\u001b[0m\u001b[37m\u001b[0m \u001b[1m0s\u001b[0m 9ms/step - accuracy: 0.8111 - loss: 0.7760 - val_accuracy: 0.6772 - val_loss: 0.9147\n",
            "Epoch 8/50\n",
            "\u001b[1m16/16\u001b[0m \u001b[32m━━━━━━━━━━━━━━━━━━━━\u001b[0m\u001b[37m\u001b[0m \u001b[1m0s\u001b[0m 10ms/step - accuracy: 0.8265 - loss: 0.5767 - val_accuracy: 0.7402 - val_loss: 0.6407\n",
            "Epoch 9/50\n",
            "\u001b[1m16/16\u001b[0m \u001b[32m━━━━━━━━━━━━━━━━━━━━\u001b[0m\u001b[37m\u001b[0m \u001b[1m0s\u001b[0m 10ms/step - accuracy: 0.8433 - loss: 0.4101 - val_accuracy: 0.7598 - val_loss: 0.5486\n",
            "Epoch 10/50\n",
            "\u001b[1m16/16\u001b[0m \u001b[32m━━━━━━━━━━━━━━━━━━━━\u001b[0m\u001b[37m\u001b[0m \u001b[1m0s\u001b[0m 10ms/step - accuracy: 0.8437 - loss: 0.3926 - val_accuracy: 0.7441 - val_loss: 0.5211\n",
            "Epoch 11/50\n",
            "\u001b[1m16/16\u001b[0m \u001b[32m━━━━━━━━━━━━━━━━━━━━\u001b[0m\u001b[37m\u001b[0m \u001b[1m0s\u001b[0m 13ms/step - accuracy: 0.8575 - loss: 0.3587 - val_accuracy: 0.7520 - val_loss: 0.5023\n",
            "Epoch 12/50\n",
            "\u001b[1m16/16\u001b[0m \u001b[32m━━━━━━━━━━━━━━━━━━━━\u001b[0m\u001b[37m\u001b[0m \u001b[1m0s\u001b[0m 9ms/step - accuracy: 0.8572 - loss: 0.3541 - val_accuracy: 0.7717 - val_loss: 0.4752\n",
            "Epoch 13/50\n",
            "\u001b[1m16/16\u001b[0m \u001b[32m━━━━━━━━━━━━━━━━━━━━\u001b[0m\u001b[37m\u001b[0m \u001b[1m0s\u001b[0m 9ms/step - accuracy: 0.8579 - loss: 0.3465 - val_accuracy: 0.8071 - val_loss: 0.4515\n",
            "Epoch 14/50\n",
            "\u001b[1m16/16\u001b[0m \u001b[32m━━━━━━━━━━━━━━━━━━━━\u001b[0m\u001b[37m\u001b[0m \u001b[1m0s\u001b[0m 10ms/step - accuracy: 0.8256 - loss: 0.4082 - val_accuracy: 0.8386 - val_loss: 0.4018\n",
            "Epoch 15/50\n",
            "\u001b[1m16/16\u001b[0m \u001b[32m━━━━━━━━━━━━━━━━━━━━\u001b[0m\u001b[37m\u001b[0m \u001b[1m0s\u001b[0m 9ms/step - accuracy: 0.8466 - loss: 0.3523 - val_accuracy: 0.8150 - val_loss: 0.4449\n",
            "Epoch 16/50\n",
            "\u001b[1m16/16\u001b[0m \u001b[32m━━━━━━━━━━━━━━━━━━━━\u001b[0m\u001b[37m\u001b[0m \u001b[1m0s\u001b[0m 9ms/step - accuracy: 0.8602 - loss: 0.3296 - val_accuracy: 0.8543 - val_loss: 0.3704\n",
            "Epoch 17/50\n",
            "\u001b[1m16/16\u001b[0m \u001b[32m━━━━━━━━━━━━━━━━━━━━\u001b[0m\u001b[37m\u001b[0m \u001b[1m0s\u001b[0m 9ms/step - accuracy: 0.8559 - loss: 0.2985 - val_accuracy: 0.8386 - val_loss: 0.3782\n",
            "Epoch 18/50\n",
            "\u001b[1m16/16\u001b[0m \u001b[32m━━━━━━━━━━━━━━━━━━━━\u001b[0m\u001b[37m\u001b[0m \u001b[1m0s\u001b[0m 9ms/step - accuracy: 0.8866 - loss: 0.2944 - val_accuracy: 0.8189 - val_loss: 0.3937\n",
            "Epoch 19/50\n",
            "\u001b[1m16/16\u001b[0m \u001b[32m━━━━━━━━━━━━━━━━━━━━\u001b[0m\u001b[37m\u001b[0m \u001b[1m0s\u001b[0m 10ms/step - accuracy: 0.8577 - loss: 0.3359 - val_accuracy: 0.8465 - val_loss: 0.3707\n",
            "Epoch 20/50\n",
            "\u001b[1m16/16\u001b[0m \u001b[32m━━━━━━━━━━━━━━━━━━━━\u001b[0m\u001b[37m\u001b[0m \u001b[1m0s\u001b[0m 10ms/step - accuracy: 0.8753 - loss: 0.3138 - val_accuracy: 0.8504 - val_loss: 0.3578\n",
            "Epoch 21/50\n",
            "\u001b[1m16/16\u001b[0m \u001b[32m━━━━━━━━━━━━━━━━━━━━\u001b[0m\u001b[37m\u001b[0m \u001b[1m0s\u001b[0m 9ms/step - accuracy: 0.8824 - loss: 0.3026 - val_accuracy: 0.8661 - val_loss: 0.3325\n",
            "Epoch 22/50\n",
            "\u001b[1m16/16\u001b[0m \u001b[32m━━━━━━━━━━━━━━━━━━━━\u001b[0m\u001b[37m\u001b[0m \u001b[1m0s\u001b[0m 9ms/step - accuracy: 0.8552 - loss: 0.3306 - val_accuracy: 0.8740 - val_loss: 0.3499\n",
            "Epoch 23/50\n",
            "\u001b[1m16/16\u001b[0m \u001b[32m━━━━━━━━━━━━━━━━━━━━\u001b[0m\u001b[37m\u001b[0m \u001b[1m0s\u001b[0m 10ms/step - accuracy: 0.8778 - loss: 0.3140 - val_accuracy: 0.8504 - val_loss: 0.3605\n",
            "Epoch 24/50\n",
            "\u001b[1m16/16\u001b[0m \u001b[32m━━━━━━━━━━━━━━━━━━━━\u001b[0m\u001b[37m\u001b[0m \u001b[1m0s\u001b[0m 9ms/step - accuracy: 0.8960 - loss: 0.2869 - val_accuracy: 0.8622 - val_loss: 0.3384\n",
            "Epoch 25/50\n",
            "\u001b[1m16/16\u001b[0m \u001b[32m━━━━━━━━━━━━━━━━━━━━\u001b[0m\u001b[37m\u001b[0m \u001b[1m0s\u001b[0m 9ms/step - accuracy: 0.8798 - loss: 0.2920 - val_accuracy: 0.8858 - val_loss: 0.3161\n",
            "Epoch 26/50\n",
            "\u001b[1m16/16\u001b[0m \u001b[32m━━━━━━━━━━━━━━━━━━━━\u001b[0m\u001b[37m\u001b[0m \u001b[1m0s\u001b[0m 9ms/step - accuracy: 0.8814 - loss: 0.2793 - val_accuracy: 0.8780 - val_loss: 0.3415\n",
            "Epoch 27/50\n",
            "\u001b[1m16/16\u001b[0m \u001b[32m━━━━━━━━━━━━━━━━━━━━\u001b[0m\u001b[37m\u001b[0m \u001b[1m0s\u001b[0m 9ms/step - accuracy: 0.8842 - loss: 0.2819 - val_accuracy: 0.8898 - val_loss: 0.3198\n",
            "Epoch 28/50\n",
            "\u001b[1m16/16\u001b[0m \u001b[32m━━━━━━━━━━━━━━━━━━━━\u001b[0m\u001b[37m\u001b[0m \u001b[1m0s\u001b[0m 9ms/step - accuracy: 0.8828 - loss: 0.3025 - val_accuracy: 0.8937 - val_loss: 0.3116\n",
            "Epoch 29/50\n",
            "\u001b[1m16/16\u001b[0m \u001b[32m━━━━━━━━━━━━━━━━━━━━\u001b[0m\u001b[37m\u001b[0m \u001b[1m0s\u001b[0m 10ms/step - accuracy: 0.8869 - loss: 0.2908 - val_accuracy: 0.8780 - val_loss: 0.3355\n",
            "Epoch 30/50\n",
            "\u001b[1m16/16\u001b[0m \u001b[32m━━━━━━━━━━━━━━━━━━━━\u001b[0m\u001b[37m\u001b[0m \u001b[1m0s\u001b[0m 9ms/step - accuracy: 0.8624 - loss: 0.3256 - val_accuracy: 0.8661 - val_loss: 0.3541\n",
            "Epoch 31/50\n",
            "\u001b[1m16/16\u001b[0m \u001b[32m━━━━━━━━━━━━━━━━━━━━\u001b[0m\u001b[37m\u001b[0m \u001b[1m0s\u001b[0m 10ms/step - accuracy: 0.8938 - loss: 0.2760 - val_accuracy: 0.8740 - val_loss: 0.3321\n",
            "Epoch 32/50\n",
            "\u001b[1m16/16\u001b[0m \u001b[32m━━━━━━━━━━━━━━━━━━━━\u001b[0m\u001b[37m\u001b[0m \u001b[1m0s\u001b[0m 9ms/step - accuracy: 0.8915 - loss: 0.2895 - val_accuracy: 0.8622 - val_loss: 0.3438\n",
            "Epoch 33/50\n",
            "\u001b[1m16/16\u001b[0m \u001b[32m━━━━━━━━━━━━━━━━━━━━\u001b[0m\u001b[37m\u001b[0m \u001b[1m0s\u001b[0m 10ms/step - accuracy: 0.8846 - loss: 0.2977 - val_accuracy: 0.8661 - val_loss: 0.3382\n",
            "Epoch 34/50\n",
            "\u001b[1m16/16\u001b[0m \u001b[32m━━━━━━━━━━━━━━━━━━━━\u001b[0m\u001b[37m\u001b[0m \u001b[1m0s\u001b[0m 9ms/step - accuracy: 0.8871 - loss: 0.2756 - val_accuracy: 0.8898 - val_loss: 0.3450\n",
            "Epoch 35/50\n",
            "\u001b[1m16/16\u001b[0m \u001b[32m━━━━━━━━━━━━━━━━━━━━\u001b[0m\u001b[37m\u001b[0m \u001b[1m0s\u001b[0m 10ms/step - accuracy: 0.8789 - loss: 0.2877 - val_accuracy: 0.8898 - val_loss: 0.3077\n",
            "Epoch 36/50\n",
            "\u001b[1m16/16\u001b[0m \u001b[32m━━━━━━━━━━━━━━━━━━━━\u001b[0m\u001b[37m\u001b[0m \u001b[1m0s\u001b[0m 10ms/step - accuracy: 0.8993 - loss: 0.2421 - val_accuracy: 0.8701 - val_loss: 0.3280\n",
            "Epoch 37/50\n",
            "\u001b[1m16/16\u001b[0m \u001b[32m━━━━━━━━━━━━━━━━━━━━\u001b[0m\u001b[37m\u001b[0m \u001b[1m0s\u001b[0m 9ms/step - accuracy: 0.8976 - loss: 0.2632 - val_accuracy: 0.8780 - val_loss: 0.3427\n",
            "Epoch 38/50\n",
            "\u001b[1m16/16\u001b[0m \u001b[32m━━━━━━━━━━━━━━━━━━━━\u001b[0m\u001b[37m\u001b[0m \u001b[1m0s\u001b[0m 10ms/step - accuracy: 0.9059 - loss: 0.2470 - val_accuracy: 0.8780 - val_loss: 0.3336\n",
            "Epoch 39/50\n",
            "\u001b[1m16/16\u001b[0m \u001b[32m━━━━━━━━━━━━━━━━━━━━\u001b[0m\u001b[37m\u001b[0m \u001b[1m0s\u001b[0m 9ms/step - accuracy: 0.8919 - loss: 0.2637 - val_accuracy: 0.8819 - val_loss: 0.3390\n",
            "Epoch 40/50\n",
            "\u001b[1m16/16\u001b[0m \u001b[32m━━━━━━━━━━━━━━━━━━━━\u001b[0m\u001b[37m\u001b[0m \u001b[1m0s\u001b[0m 9ms/step - accuracy: 0.9122 - loss: 0.2357 - val_accuracy: 0.8780 - val_loss: 0.3544\n",
            "Epoch 41/50\n",
            "\u001b[1m16/16\u001b[0m \u001b[32m━━━━━━━━━━━━━━━━━━━━\u001b[0m\u001b[37m\u001b[0m \u001b[1m0s\u001b[0m 10ms/step - accuracy: 0.9063 - loss: 0.2498 - val_accuracy: 0.8819 - val_loss: 0.3248\n",
            "Epoch 42/50\n",
            "\u001b[1m16/16\u001b[0m \u001b[32m━━━━━━━━━━━━━━━━━━━━\u001b[0m\u001b[37m\u001b[0m \u001b[1m0s\u001b[0m 9ms/step - accuracy: 0.8896 - loss: 0.2660 - val_accuracy: 0.8622 - val_loss: 0.3574\n",
            "Epoch 43/50\n",
            "\u001b[1m16/16\u001b[0m \u001b[32m━━━━━━━━━━━━━━━━━━━━\u001b[0m\u001b[37m\u001b[0m \u001b[1m0s\u001b[0m 9ms/step - accuracy: 0.8931 - loss: 0.2698 - val_accuracy: 0.8504 - val_loss: 0.3698\n",
            "Epoch 44/50\n",
            "\u001b[1m16/16\u001b[0m \u001b[32m━━━━━━━━━━━━━━━━━━━━\u001b[0m\u001b[37m\u001b[0m \u001b[1m0s\u001b[0m 10ms/step - accuracy: 0.8996 - loss: 0.2361 - val_accuracy: 0.8780 - val_loss: 0.3488\n",
            "Epoch 45/50\n",
            "\u001b[1m16/16\u001b[0m \u001b[32m━━━━━━━━━━━━━━━━━━━━\u001b[0m\u001b[37m\u001b[0m \u001b[1m0s\u001b[0m 9ms/step - accuracy: 0.8801 - loss: 0.3043 - val_accuracy: 0.8701 - val_loss: 0.3414\n",
            "Epoch 46/50\n",
            "\u001b[1m16/16\u001b[0m \u001b[32m━━━━━━━━━━━━━━━━━━━━\u001b[0m\u001b[37m\u001b[0m \u001b[1m0s\u001b[0m 9ms/step - accuracy: 0.9086 - loss: 0.2422 - val_accuracy: 0.8937 - val_loss: 0.3399\n",
            "Epoch 47/50\n",
            "\u001b[1m16/16\u001b[0m \u001b[32m━━━━━━━━━━━━━━━━━━━━\u001b[0m\u001b[37m\u001b[0m \u001b[1m0s\u001b[0m 9ms/step - accuracy: 0.9044 - loss: 0.2424 - val_accuracy: 0.8898 - val_loss: 0.3368\n",
            "Epoch 48/50\n",
            "\u001b[1m16/16\u001b[0m \u001b[32m━━━━━━━━━━━━━━━━━━━━\u001b[0m\u001b[37m\u001b[0m \u001b[1m0s\u001b[0m 9ms/step - accuracy: 0.8887 - loss: 0.2837 - val_accuracy: 0.8858 - val_loss: 0.3022\n",
            "Epoch 49/50\n",
            "\u001b[1m16/16\u001b[0m \u001b[32m━━━━━━━━━━━━━━━━━━━━\u001b[0m\u001b[37m\u001b[0m \u001b[1m0s\u001b[0m 9ms/step - accuracy: 0.9027 - loss: 0.2566 - val_accuracy: 0.8898 - val_loss: 0.3377\n",
            "Epoch 50/50\n",
            "\u001b[1m16/16\u001b[0m \u001b[32m━━━━━━━━━━━━━━━━━━━━\u001b[0m\u001b[37m\u001b[0m \u001b[1m0s\u001b[0m 8ms/step - accuracy: 0.8977 - loss: 0.2548 - val_accuracy: 0.8780 - val_loss: 0.3349\n"
          ]
        },
        {
          "data": {
            "text/plain": [
              "<keras.src.callbacks.history.History at 0x22f06abae70>"
            ]
          },
          "execution_count": 344,
          "metadata": {},
          "output_type": "execute_result"
        }
      ],
      "source": [
        "model2.fit(X_train, y_train,\n",
        "        epochs=50,\n",
        "        batch_size=64,\n",
        "        validation_data=(X_test, y_test),\n",
        "        callbacks=[early_stopping]\n",
        "        )"
      ]
    },
    {
      "cell_type": "code",
      "execution_count": null,
      "id": "d962014e",
      "metadata": {
        "id": "d962014e"
      },
      "outputs": [],
      "source": []
    },
    {
      "cell_type": "code",
      "execution_count": null,
      "id": "768b81dd",
      "metadata": {
        "id": "768b81dd"
      },
      "outputs": [],
      "source": []
    }
  ],
  "metadata": {
    "kernelspec": {
      "display_name": "base",
      "language": "python",
      "name": "python3"
    },
    "language_info": {
      "codemirror_mode": {
        "name": "ipython",
        "version": 3
      },
      "file_extension": ".py",
      "mimetype": "text/x-python",
      "name": "python",
      "nbconvert_exporter": "python",
      "pygments_lexer": "ipython3",
      "version": "3.12.3"
    },
    "colab": {
      "provenance": [],
      "collapsed_sections": [
        "1Lyiz5OOPSX4",
        "d6Cp6YALPkNw",
        "SUdMkDgnPwwY",
        "l9kRHnRUP1Gv",
        "jOkprGRUP-k_",
        "WMFO7oHgQQSf",
        "8mvPQZpMRmJf",
        "ukA4GDOSRtc2",
        "Bz84xiLMR0_Q",
        "AEuJ_eEqStw_"
      ]
    }
  },
  "nbformat": 4,
  "nbformat_minor": 5
}